{
 "cells": [
  {
   "cell_type": "markdown",
   "metadata": {},
   "source": [
    "# IoU"
   ]
  },
  {
   "cell_type": "code",
   "execution_count": 24,
   "metadata": {},
   "outputs": [],
   "source": [
    "import os\n",
    "import numpy as np\n",
    "import pickle\n",
    "import matplotlib.pyplot as plt\n",
    "import matplotlib.animation as animation\n",
    "import matplotlib.patches as mpatches\n",
    "import torch\n",
    "\n",
    "from torchmetrics import JaccardIndex\n",
    "from matplotlib.colors import ListedColormap\n",
    "from tqdm import tqdm\n",
    "from initialize import initialize_model, load_config\n",
    "from dataset import Dataset\n",
    "from torch.utils.data import DataLoader"
   ]
  },
  {
   "cell_type": "code",
   "execution_count": 25,
   "metadata": {},
   "outputs": [],
   "source": [
    "dataset_config = {\n",
    "  **load_config(\"./dataset.cfg\"),\n",
    "  \"datasets_dir\": \"../../../../../datasets\"\n",
    "}"
   ]
  },
  {
   "cell_type": "code",
   "execution_count": 26,
   "metadata": {},
   "outputs": [
    {
     "name": "stdout",
     "output_type": "stream",
     "text": [
      "train_indexes (240): [ 50 102 134 284  25 252 144 151 242 307 314 198 154 156 177 142 277 231\n",
      " 207 170  60  79 303 108 173  11 165 220  26 300  56 201 129 114  21 248\n",
      " 183 163 155 136 159 306 210 313 227 203 181 226 244  54 193 239 276 219\n",
      "  86  92 130 294 115 139   6 229 111  18 302 272 194  40 288 119  97  43\n",
      " 271 281  15  51 234 150 103  87  57   9 153 285  59 208 254 310   7 172\n",
      " 120 240 215 317  46  36 152  76 141 237 273  75  38 184  70 143 223 269\n",
      "  24  71 291  81 316 216 305  89 233   2 132  10 283  96 218 297 164 188\n",
      "  14 225 182  49 189 169 251 309 301 308 171 105  72 257  64  67  90 250\n",
      " 304  78 241 200  33 311 298 299 256  69 107  39 287  13 191 258   1   4\n",
      " 179  82 185 279 162  31  91  27 278  28 228  41  45 262  93 268 167 101\n",
      "  65  30 270  98 202 217 124 161 280 290 249 180  66 247 158  37 116 212\n",
      " 140  16  95 168 253 135  42 109 121 260 197 224 123  61 236 106  63 125\n",
      "  20 264 266 205 222 199 261  53 209 118 127 149  88 157  62 186 131  84\n",
      "   8 122 295  19 204  44]\n",
      "test_indexes (78): [221 147 214 312  99 117  68 128 286 267 175  12  35 104 160 178 246 195\n",
      " 112  83 100 238 255 245  23  58 138   5 211   0 113 145  73 190 263  22\n",
      " 265  17 230  47  32   3 174  77 148 315 213  48  55  94 206 110  34 282\n",
      " 137  80 274 126  52 293 196 292 243 166 146 275 296  85 259 133  74 289\n",
      "  29 187 192 235 232 176]\n"
     ]
    }
   ],
   "source": [
    "# Load Split Indexes\n",
    "train_indexes = np.load(\"./train_indexes.npy\")\n",
    "test_indexes = np.load(\"./test_indexes.npy\")\n",
    "\n",
    "print(f\"train_indexes ({len(train_indexes)}): {train_indexes}\")\n",
    "print(f\"test_indexes ({len(test_indexes)}): {test_indexes}\")"
   ]
  },
  {
   "cell_type": "code",
   "execution_count": 27,
   "metadata": {},
   "outputs": [],
   "source": [
    "# indexes = train_indexes\n",
    "indexes = test_indexes\n",
    "\n",
    "dataset = Dataset(dataset_config, indexes = indexes)\n",
    "# dataloader = DataLoader(dataset, batch_size=1, shuffle=False)"
   ]
  },
  {
   "cell_type": "code",
   "execution_count": 11,
   "metadata": {},
   "outputs": [],
   "source": [
    "EPOCH = 1000"
   ]
  },
  {
   "cell_type": "code",
   "execution_count": 12,
   "metadata": {},
   "outputs": [
    {
     "name": "stdout",
     "output_type": "stream",
     "text": [
      "[0.02380952 0.375      0.2682927  0.42424244 0.2682927  0.45\n",
      " 0.45454547 0.46153846 0.6052632  0.47619048 0.5        0.32467532\n",
      " 0.6896552  0.52380955 0.57471263 0.74157304 0.7659575  0.525\n",
      " 0.63106793 0.74336284 0.03703704 0.04545455 0.025      0.\n",
      " 0.07142857 0.         0.05714286 0.         0.02631579 0.02777778\n",
      " 0.         0.         0.         0.         0.08695652 0.\n",
      " 0.         0.11111111 0.06666667 0.         0.09259259 0.05555556\n",
      " 0.03703704 0.32352942 0.17391305 0.22807017 0.5        0.5\n",
      " 0.5254237  0.60465115 0.33333334 0.421875   0.21311475 0.68333334\n",
      " 0.16       0.5862069  0.45833334 0.82258064 0.5735294  0.43055555\n",
      " 0.08333334 0.04166667 0.         0.04       0.         0.06451613\n",
      " 0.03225806 0.16666667 0.03703704 0.03125    0.09090909 0.05882353\n",
      " 0.03703704 0.05263158 0.         0.06666667 0.         0.04166667]\n"
     ]
    },
    {
     "name": "stderr",
     "output_type": "stream",
     "text": [
      "/tmp/ipykernel_1791599/1489085508.py:35: UserWarning: To copy construct from a tensor, it is recommended to use sourceTensor.clone().detach() or sourceTensor.clone().detach().requires_grad_(True), rather than torch.tensor(sourceTensor).\n",
      "  build_layer_iou = jaccard(torch.tensor(prediction), torch.tensor(target))\n",
      "/tmp/ipykernel_1791599/1489085508.py:36: UserWarning: To copy construct from a tensor, it is recommended to use sourceTensor.clone().detach() or sourceTensor.clone().detach().requires_grad_(True), rather than torch.tensor(sourceTensor).\n",
      "  build_layer_iou_ignore = jaccard_ignore(torch.tensor(prediction), torch.tensor(target))\n"
     ]
    }
   ],
   "source": [
    "jaccard = JaccardIndex(task=\"multiclass\", num_classes=2)\n",
    "jaccard_ignore = JaccardIndex(task=\"multiclass\", num_classes=2, ignore_index=0)\n",
    "\n",
    "if not os.path.isdir(\"iou\"):\n",
    "    os.mkdir(\"iou\")\n",
    "\n",
    "# epochs_iou = []\n",
    "# epochs_iou_ignore = []\n",
    "# epochs_predictions = []\n",
    "\n",
    "with open(f\"./targets.p\", \"rb\") as targets_file:\n",
    "    targets = pickle.load(targets_file)\n",
    "\n",
    "test_length = len(test_indexes)\n",
    "\n",
    "if not os.path.isdir(f\"iou/{EPOCH}\"):\n",
    "    os.mkdir(f\"iou/{EPOCH}\")\n",
    "\n",
    "build_layers_iou = []\n",
    "build_layers_iou_ignore = []\n",
    "for index in range(test_length):\n",
    "    predictions = []\n",
    "\n",
    "    with open(f\"./predictions/{EPOCH}.p\", \"rb\") as predictions_file:\n",
    "        predictions = pickle.load(predictions_file)\n",
    "\n",
    "    prediction = predictions[index].squeeze()\n",
    "    # prediction = np.transpose(prediction, (1, 0, 2))\n",
    "\n",
    "    target = targets[index].squeeze()\n",
    "    # target = np.transpose(target, (1, 0, 2))\n",
    "\n",
    "    # print(prediction.shape)\n",
    "\n",
    "    build_layer_iou = jaccard(torch.tensor(prediction), torch.tensor(target))\n",
    "    build_layer_iou_ignore = jaccard_ignore(torch.tensor(prediction), torch.tensor(target))\n",
    "\n",
    "    # Sets correct prediction of no pores to 1.\n",
    "    prediction_not_empty = np.any(np.array(prediction) == 1)\n",
    "    target_not_empty = np.any(np.array(target) == 1)\n",
    "\n",
    "    # print(np.unique(prediction), np.unique(target))\n",
    "\n",
    "    if (not target_not_empty):\n",
    "        build_layer_iou_ignore = torch.tensor(0.0)\n",
    "        build_layer_iou = torch.tensor(0.0)\n",
    "\n",
    "    if (not prediction_not_empty and not target_not_empty):\n",
    "        # print(index, prediction_not_empty, target_not_empty)\n",
    "        build_layer_iou_ignore = torch.tensor(1.0)\n",
    "        build_layer_iou = torch.tensor(1.0)\n",
    "\n",
    "    build_layers_iou.append(build_layer_iou)\n",
    "    build_layers_iou_ignore.append(build_layer_iou_ignore)\n",
    "\n",
    "predictions_numpy = []\n",
    "targets_numpy = []\n",
    "\n",
    "for prediction in predictions:\n",
    "    # print(prediction.shape)\n",
    "    predictions_numpy.append(np.array(prediction))\n",
    "\n",
    "for target in targets:\n",
    "    # print(target.shape)\n",
    "    targets_numpy.append(np.array(target))\n",
    "\n",
    "predictions = np.array(predictions_numpy)\n",
    "targets = np.array(targets_numpy)\n",
    "\n",
    "predictions = np.array([value for _, value in sorted(zip(test_indexes, predictions))])\n",
    "targets = np.array([value for _, value in sorted(zip(test_indexes, targets))])\n",
    "\n",
    "iou = np.array([value for _, value in sorted(zip(test_indexes, build_layers_iou))])\n",
    "# epochs_iou.append(epoch_iou)\n",
    "\n",
    "iou_ignore = np.array([value for _, value in sorted(zip(test_indexes, build_layers_iou_ignore))])\n",
    "print(iou_ignore)\n",
    "# epochs_iou_ignore.append(epoch_iou_ignore)\n",
    "\n",
    "# epochs_predictions.append(predictions)"
   ]
  },
  {
   "cell_type": "code",
   "execution_count": 13,
   "metadata": {},
   "outputs": [],
   "source": [
    "# sorted_test_indexes = sorted(test_indexes)\n",
    "# print(sorted_test_indexes)\n",
    "\n",
    "dataset_index = np.array([divmod(layer_index, 159)[0] for layer_index in test_indexes])\n",
    "build_layer_index = np.array([divmod(layer_index, 159)[1] for layer_index in test_indexes])\n",
    "\n",
    "spacing_mask = dataset_index == 0\n",
    "velocity_mask = dataset_index == 1\n",
    "\n",
    "# print(len(iou_ignore), iou_ignore)\n",
    "# print(len(dataset_index), dataset_index)\n",
    "# print(len(build_layer_index), build_layer_index)\n",
    "# print(spacing_mask)\n",
    "# print(velocity_mask)\n"
   ]
  },
  {
   "cell_type": "code",
   "execution_count": 14,
   "metadata": {},
   "outputs": [
    {
     "name": "stdout",
     "output_type": "stream",
     "text": [
      "Epoch 1000 -> min: 0.0, mean: 0.24294842779636383, max: 0.8225806355476379\n"
     ]
    }
   ],
   "source": [
    "spacing_build_layers = build_layer_index[spacing_mask]\n",
    "spacing_sorted = np.argsort(spacing_build_layers)\n",
    "spacing_sorted_build_layers = spacing_build_layers[spacing_sorted]\n",
    "\n",
    "spacing_iou = iou_ignore[spacing_mask]\n",
    "# spacing_sorted_iou = spacing_iou[spacing_sorted]\n",
    "\n",
    "velocity_build_layers = build_layer_index[velocity_mask]\n",
    "velocity_sorted = np.argsort(velocity_build_layers)\n",
    "velocity_sorted_build_layers = velocity_build_layers[velocity_sorted]\n",
    "\n",
    "# print(velocity_build_layers)\n",
    "# print(velocity_sorted_build_layers)\n",
    "\n",
    "velocity_iou = iou_ignore[velocity_mask]\n",
    "# velocity_sorted_iou = velocity_iou[velocity_sorted]\n",
    "\n",
    "# print(velocity_iou)\n",
    "# print(velocity_sorted_iou)\n",
    "\n",
    "min, mean, max = np.min(iou_ignore), np.mean(iou_ignore), np.max(iou_ignore)\n",
    "print(f\"Epoch {EPOCH} -> min: {min}, mean: {mean}, max: {max}\")"
   ]
  },
  {
   "cell_type": "code",
   "execution_count": 15,
   "metadata": {},
   "outputs": [
    {
     "data": {
      "image/png": "[encoded data removed]",
      "text/plain": [
       "<Figure size 600x600 with 1 Axes>"
      ]
     },
     "metadata": {},
     "output_type": "display_data"
    }
   ],
   "source": [
    "plt.figure(figsize=(6, 6))\n",
    "plt.bar(\n",
    "    spacing_sorted_build_layers,\n",
    "    spacing_iou,\n",
    "    color=\"red\",\n",
    "    width=5,\n",
    "    alpha=0.5,\n",
    "    label=\"Spacing\",\n",
    ")\n",
    "plt.bar(\n",
    "    velocity_sorted_build_layers,\n",
    "    velocity_iou,\n",
    "    color=\"blue\",\n",
    "    width=5,\n",
    "    alpha=0.5,\n",
    "    label=\"Velocity\"\n",
    ")\n",
    "\n",
    "# Increase border thickness\n",
    "plt.gca().spines['top'].set_linewidth(2)\n",
    "plt.gca().spines['right'].set_linewidth(2)\n",
    "plt.gca().spines['bottom'].set_linewidth(2)\n",
    "plt.gca().spines['left'].set_linewidth(2)\n",
    "\n",
    "# Add labels and title\n",
    "plt.xlabel('Build Layer', fontsize=18)\n",
    "plt.ylabel('Pore Localization IoU', fontsize=18)\n",
    "plt.ylim([0, 1])\n",
    "plt.tick_params(direction=\"in\", labelsize=14, width=2)\n",
    "\n",
    "plt.legend(fontsize=18)\n",
    "plt.savefig(f\"iou/{EPOCH}/ignore_background.png\")\n",
    "plt.savefig(f\"../../../../../analysis/notebooks/figures/pore_localization/all_rotated_thresholded.png\")\n",
    "plt.show()"
   ]
  },
  {
   "cell_type": "code",
   "execution_count": 34,
   "metadata": {},
   "outputs": [
    {
     "name": "stdout",
     "output_type": "stream",
     "text": [
      "78\n",
      "torch.Size([16, 16])\n",
      "torch.Size([16, 16, 1])\n",
      "layer 17\n"
     ]
    },
    {
     "name": "stderr",
     "output_type": "stream",
     "text": [
      "  0%|          | 0/1 [00:00<?, ?it/s]"
     ]
    },
    {
     "name": "stdout",
     "output_type": "stream",
     "text": [
      "(16, 16)\n",
      "146 0.03125\n"
     ]
    },
    {
     "name": "stderr",
     "output_type": "stream",
     "text": [
      "100%|██████████| 1/1 [00:00<00:00,  3.44it/s]\n"
     ]
    },
    {
     "data": {
      "image/png": "[encoded data removed]",
      "text/plain": [
       "<Figure size 600x600 with 4 Axes>"
      ]
     },
     "metadata": {},
     "output_type": "display_data"
    }
   ],
   "source": [
    "INDEX = 37\n",
    "\n",
    "item = dataset.__getitem__(INDEX)\n",
    "length = len(dataset)\n",
    "print(length)\n",
    "# print(item[1])\n",
    "print(target.shape)\n",
    "print(item[1].shape)\n",
    "\n",
    "print(f\"layer {test_indexes[INDEX]}\")\n",
    "\n",
    "for index in tqdm([INDEX]):\n",
    "# for index in tqdm(range(test_length)):\n",
    "    prediction = predictions[index].squeeze()\n",
    "    print(prediction.shape)\n",
    "    target = item[1].squeeze()\n",
    "    # target = targets[index].squeeze()\n",
    "\n",
    "    print(spacing_sorted_build_layers[index], spacing_iou[index])\n",
    "\n",
    "    fig, axes = plt.subplots(2, 2, figsize=(6, 6))\n",
    "\n",
    "    cmap = plt.get_cmap('viridis')\n",
    "    cmap_zero_transparent = ListedColormap(cmap(np.arange(cmap.N)))\n",
    "    cmap_zero_transparent.set_bad(alpha=0)\n",
    "\n",
    "    plt.subplots_adjust(top=0.85)\n",
    "\n",
    "    # fig.suptitle(f\"Build Layer: {spacing_sorted_build_layers[index]}, IOU: {iou:.3f} IOU (ignore bg): {iou_ignore:.3f}\", fontsize=18)\n",
    "\n",
    "    axes[0][0].clear()\n",
    "    axes[0][0].set_title(\"Prediction\", fontsize=12)\n",
    "    prediction_nan = np.where(prediction == 0, np.nan, prediction + 1)\n",
    "    axes[0][0].imshow(prediction_nan, vmin=0, vmax=3, cmap=cmap_zero_transparent)\n",
    "\n",
    "    axes[0][1].clear()\n",
    "    axes[0][1].set_title(\"Ground Truth\", fontsize=12)\n",
    "    target_nan = np.where(target == 0, np.nan, target)\n",
    "    axes[0][1].imshow(target_nan, vmin=0, vmax=3, cmap=cmap_zero_transparent)\n",
    "\n",
    "    axes[1][0].clear()\n",
    "    axes[1][0].set_title(\"Intersection\", fontsize=12)\n",
    "\n",
    "    scaled_prediction = prediction * 2\n",
    "    values = target + scaled_prediction\n",
    "    values_nan = np.where(values == 0, np.nan, values)\n",
    "\n",
    "    img_2 = axes[1][0].imshow(values_nan, vmin=0, vmax=3, cmap=cmap_zero_transparent)\n",
    "\n",
    "    # Add legend for values 1 and 2\n",
    "    legend_elements = [\n",
    "        mpatches.Patch(color=img_2.cmap(0.33), label='Ground Truth'),\n",
    "        mpatches.Patch(color=img_2.cmap(0.66), label='Prediction'),\n",
    "        mpatches.Patch(color=img_2.cmap(1.0), label='Intersection'),\n",
    "    ]\n",
    "    # axes[1][0].legend(handles=legend_elements, loc=\"upper right\")\n",
    "\n",
    "    error = target - prediction + 1\n",
    "    error_nan = np.where(error == 1, np.nan, error)\n",
    "    error_nan = np.where(error == 0, 2, error_nan)\n",
    "    error_nan = np.where(error == 2, 1, error_nan)\n",
    "\n",
    "    axes[1][1].clear()\n",
    "    axes[1][1].set_title(\"Error\", fontsize=12)\n",
    "\n",
    "    # Increase border thickness\n",
    "    for x in range(2):\n",
    "        for y in range(2):\n",
    "            axes[x][y].spines['top'].set_linewidth(0)\n",
    "            axes[x][y].spines['right'].set_linewidth(0)\n",
    "            axes[x][y].spines['bottom'].set_linewidth(0)\n",
    "            axes[x][y].spines['left'].set_linewidth(0)\n",
    "            axes[x][y].tick_params(axis=\"both\", which=\"both\", bottom=False, top=False, left=False, right=False, labelbottom=False, labelleft=False)\n",
    "\n",
    "    img_3 = axes[1][1].imshow(error_nan, vmin=0, vmax=3, cmap=cmap_zero_transparent)\n",
    "\n",
    "    # Add legend for values 1 and 2\n",
    "    legend_elements = [\n",
    "        mpatches.Patch(color=img_3.cmap(0.0), label='Ground Truth'),\n",
    "        mpatches.Patch(color=img_3.cmap(1.0), label='Prediction'),\n",
    "    ]\n",
    "\n",
    "    # axes[1][1].legend(handles=legend_elements, loc=\"upper right\")\n"
   ]
  },
  {
   "cell_type": "code",
   "execution_count": null,
   "metadata": {},
   "outputs": [],
   "source": []
  }
 ],
 "metadata": {
  "kernelspec": {
   "display_name": "venv",
   "language": "python",
   "name": "python3"
  },
  "language_info": {
   "codemirror_mode": {
    "name": "ipython",
    "version": 3
   },
   "file_extension": ".py",
   "mimetype": "text/x-python",
   "name": "python",
   "nbconvert_exporter": "python",
   "pygments_lexer": "ipython3",
   "version": "3.8.10"
  }
 },
 "nbformat": 4,
 "nbformat_minor": 2
}
