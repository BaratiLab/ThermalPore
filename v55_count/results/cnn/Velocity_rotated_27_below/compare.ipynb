{
 "cells": [
  {
   "cell_type": "markdown",
   "metadata": {},
   "source": [
    "# IoU"
   ]
  },
  {
   "cell_type": "code",
   "execution_count": 1,
   "metadata": {},
   "outputs": [],
   "source": [
    "import os\n",
    "import numpy as np\n",
    "import pickle\n",
    "import matplotlib.pyplot as plt\n",
    "import matplotlib.animation as animation\n",
    "import matplotlib.cm as cm\n",
    "import matplotlib.patches as mpatches\n",
    "import torch\n",
    "\n",
    "from torchmetrics import JaccardIndex\n",
    "from matplotlib.colors import ListedColormap\n",
    "from tqdm import tqdm\n",
    "from sklearn.metrics import mean_squared_error, r2_score"
   ]
  },
  {
   "cell_type": "code",
   "execution_count": 2,
   "metadata": {},
   "outputs": [
    {
     "name": "stdout",
     "output_type": "stream",
     "text": [
      "train_indexes (120): [123  89 103  10 157   2 158 121  72 109  19  65  91  66  33  25 102  64\n",
      "  59 118 141  60   7  14  70  79 130  53 115 122  96  63  97 136  36 135\n",
      "  42  56  15  27 129  93 107  24   4  31  40  95  18 144  67  92 119 154\n",
      "  78  84  62  87 142   6  76 146  51 155 124 156 143  20  61 101 106 131\n",
      "  43  90 153  44 127 151  45  21  46 140  16 149 108 152 120  11 125  13\n",
      "  28  82  86  69  88  39 132 114 150  98  54  30 134 116   9   8  37  38\n",
      " 111 139  81  71  57  50  26  49   1  75  41 105]\n",
      "test_indexes (39): [148  58  55  22 110  68 147 100  34  32 133  48  80  52  94   5 126 117\n",
      "  73  83  17 104 113  29  85 138  99  12 128  74   0 112  35  77  23 137\n",
      "  47   3 145]\n"
     ]
    }
   ],
   "source": [
    "# Load Split Indexes\n",
    "train_indexes = np.load(\"./train_indexes.npy\")\n",
    "test_indexes = np.load(\"./test_indexes.npy\")\n",
    "\n",
    "print(f\"train_indexes ({len(train_indexes)}): {train_indexes}\")\n",
    "print(f\"test_indexes ({len(test_indexes)}): {test_indexes}\")"
   ]
  },
  {
   "cell_type": "code",
   "execution_count": 3,
   "metadata": {},
   "outputs": [],
   "source": [
    "EPOCH = 500"
   ]
  },
  {
   "cell_type": "code",
   "execution_count": 4,
   "metadata": {},
   "outputs": [
    {
     "name": "stdout",
     "output_type": "stream",
     "text": [
      "[[13.]\n",
      " [61.]\n",
      " [55.]\n",
      " [34.]\n",
      " [20.]\n",
      " [53.]\n",
      " [13.]\n",
      " [18.]\n",
      " [33.]\n",
      " [32.]\n",
      " [25.]\n",
      " [36.]\n",
      " [57.]\n",
      " [50.]\n",
      " [27.]\n",
      " [34.]\n",
      " [25.]\n",
      " [20.]\n",
      " [57.]\n",
      " [66.]\n",
      " [20.]\n",
      " [23.]\n",
      " [25.]\n",
      " [23.]\n",
      " [51.]\n",
      " [15.]\n",
      " [25.]\n",
      " [27.]\n",
      " [31.]\n",
      " [53.]\n",
      " [15.]\n",
      " [21.]\n",
      " [33.]\n",
      " [56.]\n",
      " [38.]\n",
      " [19.]\n",
      " [42.]\n",
      " [28.]\n",
      " [23.]]\n",
      "[[12.]\n",
      " [35.]\n",
      " [32.]\n",
      " [34.]\n",
      " [37.]\n",
      " [47.]\n",
      " [27.]\n",
      " [22.]\n",
      " [50.]\n",
      " [40.]\n",
      " [17.]\n",
      " [61.]\n",
      " [33.]\n",
      " [35.]\n",
      " [15.]\n",
      " [25.]\n",
      " [29.]\n",
      " [21.]\n",
      " [49.]\n",
      " [17.]\n",
      " [22.]\n",
      " [19.]\n",
      " [21.]\n",
      " [33.]\n",
      " [19.]\n",
      " [15.]\n",
      " [32.]\n",
      " [40.]\n",
      " [20.]\n",
      " [41.]\n",
      " [31.]\n",
      " [29.]\n",
      " [35.]\n",
      " [45.]\n",
      " [33.]\n",
      " [22.]\n",
      " [36.]\n",
      " [26.]\n",
      " [19.]]\n"
     ]
    }
   ],
   "source": [
    "with open(f\"./targets.p\", \"rb\") as targets_file:\n",
    "    targets = pickle.load(targets_file)\n",
    "    targets = np.vstack([t.numpy() for t in targets])\n",
    "    print(targets)\n",
    "\n",
    "with open(f\"./predictions/{EPOCH}.p\", \"rb\") as prediction_file:\n",
    "    predictions = pickle.load(prediction_file)\n",
    "    predictions = np.array(predictions)\n",
    "    print(predictions)"
   ]
  },
  {
   "cell_type": "code",
   "execution_count": 5,
   "metadata": {},
   "outputs": [
    {
     "name": "stdout",
     "output_type": "stream",
     "text": [
      "RMSE: 14.737881\n",
      "R2 score: 0.03115889733379873\n"
     ]
    }
   ],
   "source": [
    "# Calculate RMSE\n",
    "rmse = np.sqrt(mean_squared_error(targets, predictions))\n",
    "\n",
    "# Calculate R2 score\n",
    "r2 = r2_score(targets, predictions)\n",
    "\n",
    "print(\"RMSE:\", rmse)\n",
    "print(\"R2 score:\", r2)"
   ]
  },
  {
   "cell_type": "code",
   "execution_count": 6,
   "metadata": {},
   "outputs": [
    {
     "name": "stderr",
     "output_type": "stream",
     "text": [
      "/tmp/ipykernel_887923/3170230192.py:6: MatplotlibDeprecationWarning: The get_cmap function was deprecated in Matplotlib 3.7 and will be removed two minor releases later. Use ``matplotlib.colormaps[name]`` or ``matplotlib.colormaps.get_cmap(obj)`` instead.\n",
      "  cmap = cm.get_cmap(\"viridis\")\n"
     ]
    },
    {
     "data": {
      "image/png": "[encoded data removed]",
      "text/plain": [
       "<Figure size 640x480 with 2 Axes>"
      ]
     },
     "metadata": {},
     "output_type": "display_data"
    }
   ],
   "source": [
    "# Create a plot\n",
    "BUILD_LAYERS = 159\n",
    "dataset_index = [divmod(layer_index, 159)[0] for layer_index in test_indexes]\n",
    "dataset_markers = np.array([\"o\" if index == 0 else \"s\" for index in dataset_index])\n",
    "colored_layers = np.array([divmod(layer_index, 159)[1] for layer_index in test_indexes])\n",
    "cmap = cm.get_cmap(\"viridis\")\n",
    "# plt.scatter(targets, predictions, c=colored_layers, cmap=cmap, marker=dataset_markers)\n",
    "\n",
    "unique_markers = np.unique(dataset_markers)  # or yo can use: np.unique(m)\n",
    "\n",
    "x = targets.flatten()\n",
    "y = predictions.flatten()\n",
    "\n",
    "for marker in [\"o\", \"s\"]:\n",
    "    mask = dataset_markers == marker\n",
    "    # mask is now an array of booleans that can be used for indexing\n",
    "    label = \"Velocity\"\n",
    "    if (marker == \"o\"):\n",
    "        label = \"Spacing\"\n",
    "    plt.scatter(x[mask], y[mask], marker=marker, c=colored_layers[mask], cmap=cmap, label=label)\n",
    "\n",
    "plt.plot([targets.min(), targets.max()], [targets.min(), targets.max()], 'r-')\n",
    "plt.colorbar()\n",
    "\n",
    "# Set labels and title\n",
    "plt.xlabel('Targets')\n",
    "plt.ylabel('Predictions')\n",
    "plt.title('Pore Count')\n",
    "plt.legend()\n",
    "\n",
    "# Show plot\n",
    "plt.show()"
   ]
  },
  {
   "cell_type": "code",
   "execution_count": null,
   "metadata": {},
   "outputs": [],
   "source": []
  },
  {
   "cell_type": "code",
   "execution_count": null,
   "metadata": {},
   "outputs": [],
   "source": []
  },
  {
   "cell_type": "code",
   "execution_count": null,
   "metadata": {},
   "outputs": [],
   "source": []
  }
 ],
 "metadata": {
  "kernelspec": {
   "display_name": "venv",
   "language": "python",
   "name": "python3"
  },
  "language_info": {
   "codemirror_mode": {
    "name": "ipython",
    "version": 3
   },
   "file_extension": ".py",
   "mimetype": "text/x-python",
   "name": "python",
   "nbconvert_exporter": "python",
   "pygments_lexer": "ipython3",
   "version": "3.10.12"
  }
 },
 "nbformat": 4,
 "nbformat_minor": 2
}
