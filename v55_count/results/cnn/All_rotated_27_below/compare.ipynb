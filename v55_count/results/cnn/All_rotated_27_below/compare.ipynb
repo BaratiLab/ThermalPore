{
 "cells": [
  {
   "cell_type": "markdown",
   "metadata": {},
   "source": [
    "# IoU"
   ]
  },
  {
   "cell_type": "code",
   "execution_count": 1,
   "metadata": {},
   "outputs": [],
   "source": [
    "import os\n",
    "import numpy as np\n",
    "import pickle\n",
    "import matplotlib.pyplot as plt\n",
    "import matplotlib.animation as animation\n",
    "import matplotlib.cm as cm\n",
    "import matplotlib.patches as mpatches\n",
    "import torch\n",
    "\n",
    "from torchmetrics import JaccardIndex\n",
    "from matplotlib.colors import ListedColormap\n",
    "from tqdm import tqdm\n",
    "from sklearn.metrics import mean_squared_error, r2_score"
   ]
  },
  {
   "cell_type": "code",
   "execution_count": 2,
   "metadata": {},
   "outputs": [
    {
     "name": "stdout",
     "output_type": "stream",
     "text": [
      "train_indexes (240): [ 50 102 134 284  25 252 144 151 242 307 314 198 154 156 177 142 277 231\n",
      " 207 170  60  79 303 108 173  11 165 220  26 300  56 201 129 114  21 248\n",
      " 183 163 155 136 159 306 210 313 227 203 181 226 244  54 193 239 276 219\n",
      "  86  92 130 294 115 139   6 229 111  18 302 272 194  40 288 119  97  43\n",
      " 271 281  15  51 234 150 103  87  57   9 153 285  59 208 254 310   7 172\n",
      " 120 240 215 317  46  36 152  76 141 237 273  75  38 184  70 143 223 269\n",
      "  24  71 291  81 316 216 305  89 233   2 132  10 283  96 218 297 164 188\n",
      "  14 225 182  49 189 169 251 309 301 308 171 105  72 257  64  67  90 250\n",
      " 304  78 241 200  33 311 298 299 256  69 107  39 287  13 191 258   1   4\n",
      " 179  82 185 279 162  31  91  27 278  28 228  41  45 262  93 268 167 101\n",
      "  65  30 270  98 202 217 124 161 280 290 249 180  66 247 158  37 116 212\n",
      " 140  16  95 168 253 135  42 109 121 260 197 224 123  61 236 106  63 125\n",
      "  20 264 266 205 222 199 261  53 209 118 127 149  88 157  62 186 131  84\n",
      "   8 122 295  19 204  44]\n",
      "test_indexes (78): [221 147 214 312  99 117  68 128 286 267 175  12  35 104 160 178 246 195\n",
      " 112  83 100 238 255 245  23  58 138   5 211   0 113 145  73 190 263  22\n",
      " 265  17 230  47  32   3 174  77 148 315 213  48  55  94 206 110  34 282\n",
      " 137  80 274 126  52 293 196 292 243 166 146 275 296  85 259 133  74 289\n",
      "  29 187 192 235 232 176]\n"
     ]
    }
   ],
   "source": [
    "# Load Split Indexes\n",
    "train_indexes = np.load(\"./train_indexes.npy\")\n",
    "test_indexes = np.load(\"./test_indexes.npy\")\n",
    "\n",
    "print(f\"train_indexes ({len(train_indexes)}): {train_indexes}\")\n",
    "print(f\"test_indexes ({len(test_indexes)}): {test_indexes}\")"
   ]
  },
  {
   "cell_type": "code",
   "execution_count": 3,
   "metadata": {},
   "outputs": [],
   "source": [
    "EPOCH = 500"
   ]
  },
  {
   "cell_type": "code",
   "execution_count": 4,
   "metadata": {},
   "outputs": [
    {
     "name": "stdout",
     "output_type": "stream",
     "text": [
      "[[ 46.]\n",
      " [ 21.]\n",
      " [ 55.]\n",
      " [ 14.]\n",
      " [ 19.]\n",
      " [ 30.]\n",
      " [ 48.]\n",
      " [ 19.]\n",
      " [ 26.]\n",
      " [ 22.]\n",
      " [ 20.]\n",
      " [ 38.]\n",
      " [ 42.]\n",
      " [ 24.]\n",
      " [ 19.]\n",
      " [ 28.]\n",
      " [ 25.]\n",
      " [ 37.]\n",
      " [ 18.]\n",
      " [ 91.]\n",
      " [ 19.]\n",
      " [ 50.]\n",
      " [ 30.]\n",
      " [ 37.]\n",
      " [ 39.]\n",
      " [ 75.]\n",
      " [  3.]\n",
      " [ 33.]\n",
      " [ 50.]\n",
      " [ 27.]\n",
      " [ 16.]\n",
      " [ 15.]\n",
      " [ 80.]\n",
      " [ 32.]\n",
      " [ 23.]\n",
      " [ 43.]\n",
      " [ 20.]\n",
      " [ 36.]\n",
      " [ 61.]\n",
      " [ 49.]\n",
      " [ 38.]\n",
      " [ 30.]\n",
      " [ 26.]\n",
      " [ 95.]\n",
      " [ 20.]\n",
      " [ 13.]\n",
      " [ 45.]\n",
      " [ 54.]\n",
      " [ 74.]\n",
      " [ 27.]\n",
      " [ 42.]\n",
      " [ 18.]\n",
      " [ 45.]\n",
      " [ 24.]\n",
      " [  8.]\n",
      " [103.]\n",
      " [ 21.]\n",
      " [ 23.]\n",
      " [ 70.]\n",
      " [ 21.]\n",
      " [ 36.]\n",
      " [ 25.]\n",
      " [ 59.]\n",
      " [ 37.]\n",
      " [ 13.]\n",
      " [ 26.]\n",
      " [ 19.]\n",
      " [ 50.]\n",
      " [ 18.]\n",
      " [ 10.]\n",
      " [ 74.]\n",
      " [ 34.]\n",
      " [ 32.]\n",
      " [ 26.]\n",
      " [ 39.]\n",
      " [ 57.]\n",
      " [ 57.]\n",
      " [ 20.]]\n",
      "[[49.]\n",
      " [18.]\n",
      " [33.]\n",
      " [16.]\n",
      " [15.]\n",
      " [14.]\n",
      " [65.]\n",
      " [11.]\n",
      " [19.]\n",
      " [21.]\n",
      " [35.]\n",
      " [21.]\n",
      " [83.]\n",
      " [21.]\n",
      " [32.]\n",
      " [21.]\n",
      " [23.]\n",
      " [36.]\n",
      " [22.]\n",
      " [22.]\n",
      " [15.]\n",
      " [28.]\n",
      " [20.]\n",
      " [42.]\n",
      " [32.]\n",
      " [54.]\n",
      " [23.]\n",
      " [26.]\n",
      " [45.]\n",
      " [36.]\n",
      " [17.]\n",
      " [18.]\n",
      " [68.]\n",
      " [53.]\n",
      " [18.]\n",
      " [46.]\n",
      " [23.]\n",
      " [46.]\n",
      " [50.]\n",
      " [28.]\n",
      " [73.]\n",
      " [29.]\n",
      " [29.]\n",
      " [55.]\n",
      " [10.]\n",
      " [16.]\n",
      " [71.]\n",
      " [51.]\n",
      " [58.]\n",
      " [19.]\n",
      " [36.]\n",
      " [ 9.]\n",
      " [53.]\n",
      " [10.]\n",
      " [14.]\n",
      " [45.]\n",
      " [14.]\n",
      " [ 9.]\n",
      " [46.]\n",
      " [13.]\n",
      " [50.]\n",
      " [19.]\n",
      " [23.]\n",
      " [17.]\n",
      " [ 9.]\n",
      " [ 5.]\n",
      " [16.]\n",
      " [24.]\n",
      " [24.]\n",
      " [23.]\n",
      " [43.]\n",
      " [25.]\n",
      " [39.]\n",
      " [32.]\n",
      " [49.]\n",
      " [55.]\n",
      " [58.]\n",
      " [36.]]\n"
     ]
    }
   ],
   "source": [
    "with open(f\"./targets.p\", \"rb\") as targets_file:\n",
    "    targets = pickle.load(targets_file)\n",
    "    targets = np.vstack([t.numpy() for t in targets])\n",
    "    print(targets)\n",
    "\n",
    "with open(f\"./predictions/{EPOCH}.p\", \"rb\") as prediction_file:\n",
    "    predictions = pickle.load(prediction_file)\n",
    "    predictions = np.array(predictions)\n",
    "    print(predictions)"
   ]
  },
  {
   "cell_type": "code",
   "execution_count": 5,
   "metadata": {},
   "outputs": [
    {
     "name": "stdout",
     "output_type": "stream",
     "text": [
      "RMSE: 17.805574\n",
      "R2 score: 0.26007573355410396\n"
     ]
    }
   ],
   "source": [
    "# Calculate RMSE\n",
    "rmse = np.sqrt(mean_squared_error(targets, predictions))\n",
    "\n",
    "# Calculate R2 score\n",
    "r2 = r2_score(targets, predictions)\n",
    "\n",
    "print(\"RMSE:\", rmse)\n",
    "print(\"R2 score:\", r2)"
   ]
  },
  {
   "cell_type": "code",
   "execution_count": 6,
   "metadata": {},
   "outputs": [
    {
     "name": "stderr",
     "output_type": "stream",
     "text": [
      "/tmp/ipykernel_3119990/3170230192.py:6: MatplotlibDeprecationWarning: The get_cmap function was deprecated in Matplotlib 3.7 and will be removed two minor releases later. Use ``matplotlib.colormaps[name]`` or ``matplotlib.colormaps.get_cmap(obj)`` instead.\n",
      "  cmap = cm.get_cmap(\"viridis\")\n"
     ]
    },
    {
     "data": {
      "image/png": "[encoded data removed]",
      "text/plain": [
       "<Figure size 640x480 with 2 Axes>"
      ]
     },
     "metadata": {},
     "output_type": "display_data"
    }
   ],
   "source": [
    "# Create a plot\n",
    "BUILD_LAYERS = 159\n",
    "dataset_index = [divmod(layer_index, 159)[0] for layer_index in test_indexes]\n",
    "dataset_markers = np.array([\"o\" if index == 0 else \"s\" for index in dataset_index])\n",
    "colored_layers = np.array([divmod(layer_index, 159)[1] for layer_index in test_indexes])\n",
    "cmap = cm.get_cmap(\"viridis\")\n",
    "# plt.scatter(targets, predictions, c=colored_layers, cmap=cmap, marker=dataset_markers)\n",
    "\n",
    "unique_markers = np.unique(dataset_markers)  # or yo can use: np.unique(m)\n",
    "\n",
    "x = targets.flatten()\n",
    "y = predictions.flatten()\n",
    "\n",
    "for marker in [\"o\", \"s\"]:\n",
    "    mask = dataset_markers == marker\n",
    "    # mask is now an array of booleans that can be used for indexing\n",
    "    label = \"Velocity\"\n",
    "    if (marker == \"o\"):\n",
    "        label = \"Spacing\"\n",
    "    plt.scatter(x[mask], y[mask], marker=marker, c=colored_layers[mask], cmap=cmap, label=label)\n",
    "\n",
    "plt.plot([targets.min(), targets.max()], [targets.min(), targets.max()], 'r-')\n",
    "plt.colorbar()\n",
    "\n",
    "# Set labels and title\n",
    "plt.xlabel('Targets')\n",
    "plt.ylabel('Predictions')\n",
    "plt.title('Pore Count')\n",
    "plt.legend()\n",
    "\n",
    "# Show plot\n",
    "plt.show()"
   ]
  },
  {
   "cell_type": "code",
   "execution_count": null,
   "metadata": {},
   "outputs": [],
   "source": []
  },
  {
   "cell_type": "code",
   "execution_count": null,
   "metadata": {},
   "outputs": [],
   "source": []
  },
  {
   "cell_type": "code",
   "execution_count": null,
   "metadata": {},
   "outputs": [],
   "source": []
  }
 ],
 "metadata": {
  "kernelspec": {
   "display_name": "venv",
   "language": "python",
   "name": "python3"
  },
  "language_info": {
   "codemirror_mode": {
    "name": "ipython",
    "version": 3
   },
   "file_extension": ".py",
   "mimetype": "text/x-python",
   "name": "python",
   "nbconvert_exporter": "python",
   "pygments_lexer": "ipython3",
   "version": "3.10.12"
  }
 },
 "nbformat": 4,
 "nbformat_minor": 2
}
