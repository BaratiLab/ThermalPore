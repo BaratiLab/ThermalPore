{
 "cells": [
  {
   "cell_type": "markdown",
   "metadata": {},
   "source": [
    "# IoU"
   ]
  },
  {
   "cell_type": "code",
   "execution_count": 1,
   "metadata": {},
   "outputs": [],
   "source": [
    "import os\n",
    "import numpy as np\n",
    "import pickle\n",
    "import matplotlib.pyplot as plt\n",
    "import matplotlib.animation as animation\n",
    "import matplotlib.cm as cm\n",
    "import matplotlib.patches as mpatches\n",
    "import torch\n",
    "\n",
    "from torchmetrics import JaccardIndex\n",
    "from matplotlib.colors import ListedColormap\n",
    "from tqdm import tqdm\n",
    "from sklearn.metrics import mean_squared_error, r2_score"
   ]
  },
  {
   "cell_type": "code",
   "execution_count": 2,
   "metadata": {},
   "outputs": [
    {
     "ename": "FileNotFoundError",
     "evalue": "[Errno 2] No such file or directory: './train_indexes.npy'",
     "output_type": "error",
     "traceback": [
      "\u001b[0;31m---------------------------------------------------------------------------\u001b[0m",
      "\u001b[0;31mFileNotFoundError\u001b[0m                         Traceback (most recent call last)",
      "Cell \u001b[0;32mIn[2], line 2\u001b[0m\n\u001b[1;32m      1\u001b[0m \u001b[38;5;66;03m# Load Split Indexes\u001b[39;00m\n\u001b[0;32m----> 2\u001b[0m train_indexes \u001b[38;5;241m=\u001b[39m \u001b[43mnp\u001b[49m\u001b[38;5;241;43m.\u001b[39;49m\u001b[43mload\u001b[49m\u001b[43m(\u001b[49m\u001b[38;5;124;43m\"\u001b[39;49m\u001b[38;5;124;43m./train_indexes.npy\u001b[39;49m\u001b[38;5;124;43m\"\u001b[39;49m\u001b[43m)\u001b[49m\n\u001b[1;32m      3\u001b[0m test_indexes \u001b[38;5;241m=\u001b[39m np\u001b[38;5;241m.\u001b[39mload(\u001b[38;5;124m\"\u001b[39m\u001b[38;5;124m./test_indexes.npy\u001b[39m\u001b[38;5;124m\"\u001b[39m)\n\u001b[1;32m      5\u001b[0m \u001b[38;5;28mprint\u001b[39m(\u001b[38;5;124mf\u001b[39m\u001b[38;5;124m\"\u001b[39m\u001b[38;5;124mtrain_indexes (\u001b[39m\u001b[38;5;132;01m{\u001b[39;00m\u001b[38;5;28mlen\u001b[39m(train_indexes)\u001b[38;5;132;01m}\u001b[39;00m\u001b[38;5;124m): \u001b[39m\u001b[38;5;132;01m{\u001b[39;00mtrain_indexes\u001b[38;5;132;01m}\u001b[39;00m\u001b[38;5;124m\"\u001b[39m)\n",
      "File \u001b[0;32m~/GitHub/Thermal-Image-Porosity-Prediction/venv/lib/python3.10/site-packages/numpy/lib/npyio.py:405\u001b[0m, in \u001b[0;36mload\u001b[0;34m(file, mmap_mode, allow_pickle, fix_imports, encoding, max_header_size)\u001b[0m\n\u001b[1;32m    403\u001b[0m     own_fid \u001b[38;5;241m=\u001b[39m \u001b[38;5;28;01mFalse\u001b[39;00m\n\u001b[1;32m    404\u001b[0m \u001b[38;5;28;01melse\u001b[39;00m:\n\u001b[0;32m--> 405\u001b[0m     fid \u001b[38;5;241m=\u001b[39m stack\u001b[38;5;241m.\u001b[39menter_context(\u001b[38;5;28;43mopen\u001b[39;49m\u001b[43m(\u001b[49m\u001b[43mos_fspath\u001b[49m\u001b[43m(\u001b[49m\u001b[43mfile\u001b[49m\u001b[43m)\u001b[49m\u001b[43m,\u001b[49m\u001b[43m \u001b[49m\u001b[38;5;124;43m\"\u001b[39;49m\u001b[38;5;124;43mrb\u001b[39;49m\u001b[38;5;124;43m\"\u001b[39;49m\u001b[43m)\u001b[49m)\n\u001b[1;32m    406\u001b[0m     own_fid \u001b[38;5;241m=\u001b[39m \u001b[38;5;28;01mTrue\u001b[39;00m\n\u001b[1;32m    408\u001b[0m \u001b[38;5;66;03m# Code to distinguish from NumPy binary files and pickles.\u001b[39;00m\n",
      "\u001b[0;31mFileNotFoundError\u001b[0m: [Errno 2] No such file or directory: './train_indexes.npy'"
     ]
    }
   ],
   "source": [
    "# Load Split Indexes\n",
    "train_indexes = np.load(\"./train_indexes.npy\")\n",
    "test_indexes = np.load(\"./test_indexes.npy\")\n",
    "\n",
    "print(f\"train_indexes ({len(train_indexes)}): {train_indexes}\")\n",
    "print(f\"test_indexes ({len(test_indexes)}): {test_indexes}\")"
   ]
  },
  {
   "cell_type": "code",
   "execution_count": null,
   "metadata": {},
   "outputs": [],
   "source": [
    "EPOCH = 500"
   ]
  },
  {
   "cell_type": "code",
   "execution_count": null,
   "metadata": {},
   "outputs": [
    {
     "name": "stdout",
     "output_type": "stream",
     "text": [
      "[[23.]\n",
      " [12.]\n",
      " [32.]\n",
      " [ 9.]\n",
      " [ 5.]\n",
      " [17.]\n",
      " [27.]\n",
      " [ 5.]\n",
      " [12.]\n",
      " [11.]\n",
      " [ 9.]\n",
      " [17.]\n",
      " [26.]\n",
      " [12.]\n",
      " [ 9.]\n",
      " [15.]\n",
      " [ 9.]\n",
      " [16.]\n",
      " [ 9.]\n",
      " [38.]\n",
      " [10.]\n",
      " [29.]\n",
      " [15.]\n",
      " [ 6.]\n",
      " [18.]\n",
      " [43.]\n",
      " [ 0.]\n",
      " [18.]\n",
      " [21.]\n",
      " [13.]\n",
      " [ 9.]\n",
      " [ 8.]\n",
      " [44.]\n",
      " [17.]\n",
      " [11.]\n",
      " [19.]\n",
      " [ 9.]\n",
      " [18.]\n",
      " [30.]\n",
      " [24.]\n",
      " [17.]\n",
      " [18.]\n",
      " [10.]\n",
      " [63.]\n",
      " [ 9.]\n",
      " [ 6.]\n",
      " [19.]\n",
      " [34.]\n",
      " [39.]\n",
      " [14.]\n",
      " [22.]\n",
      " [ 5.]\n",
      " [22.]\n",
      " [11.]\n",
      " [ 2.]\n",
      " [62.]\n",
      " [ 9.]\n",
      " [10.]\n",
      " [43.]\n",
      " [11.]\n",
      " [23.]\n",
      " [12.]\n",
      " [28.]\n",
      " [20.]\n",
      " [ 9.]\n",
      " [13.]\n",
      " [ 9.]\n",
      " [ 7.]\n",
      " [ 7.]\n",
      " [ 5.]\n",
      " [39.]\n",
      " [19.]\n",
      " [17.]\n",
      " [11.]\n",
      " [22.]\n",
      " [27.]\n",
      " [23.]\n",
      " [ 8.]]\n",
      "[[21.]\n",
      " [ 5.]\n",
      " [14.]\n",
      " [11.]\n",
      " [10.]\n",
      " [ 9.]\n",
      " [40.]\n",
      " [10.]\n",
      " [13.]\n",
      " [11.]\n",
      " [18.]\n",
      " [15.]\n",
      " [37.]\n",
      " [11.]\n",
      " [11.]\n",
      " [15.]\n",
      " [36.]\n",
      " [23.]\n",
      " [ 7.]\n",
      " [ 9.]\n",
      " [14.]\n",
      " [18.]\n",
      " [ 9.]\n",
      " [17.]\n",
      " [14.]\n",
      " [38.]\n",
      " [ 8.]\n",
      " [13.]\n",
      " [15.]\n",
      " [18.]\n",
      " [ 5.]\n",
      " [10.]\n",
      " [30.]\n",
      " [18.]\n",
      " [ 2.]\n",
      " [20.]\n",
      " [ 6.]\n",
      " [22.]\n",
      " [33.]\n",
      " [16.]\n",
      " [30.]\n",
      " [16.]\n",
      " [15.]\n",
      " [32.]\n",
      " [20.]\n",
      " [ 8.]\n",
      " [26.]\n",
      " [26.]\n",
      " [33.]\n",
      " [15.]\n",
      " [19.]\n",
      " [16.]\n",
      " [20.]\n",
      " [ 4.]\n",
      " [ 4.]\n",
      " [18.]\n",
      " [16.]\n",
      " [21.]\n",
      " [27.]\n",
      " [ 9.]\n",
      " [30.]\n",
      " [ 4.]\n",
      " [13.]\n",
      " [14.]\n",
      " [10.]\n",
      " [21.]\n",
      " [11.]\n",
      " [14.]\n",
      " [ 9.]\n",
      " [ 4.]\n",
      " [22.]\n",
      " [ 9.]\n",
      " [20.]\n",
      " [16.]\n",
      " [31.]\n",
      " [29.]\n",
      " [30.]\n",
      " [16.]]\n"
     ]
    }
   ],
   "source": [
    "with open(f\"./targets.p\", \"rb\") as targets_file:\n",
    "    targets = pickle.load(targets_file)\n",
    "    targets = np.vstack([t.numpy() for t in targets])\n",
    "    print(targets)\n",
    "\n",
    "with open(f\"./predictions/{EPOCH}.p\", \"rb\") as prediction_file:\n",
    "    predictions = pickle.load(prediction_file)\n",
    "    predictions = np.array(predictions)\n",
    "    print(predictions)"
   ]
  },
  {
   "cell_type": "code",
   "execution_count": null,
   "metadata": {},
   "outputs": [
    {
     "name": "stdout",
     "output_type": "stream",
     "text": [
      "RMSE: 10.430478\n",
      "R2 score: 0.28914847148898015\n"
     ]
    }
   ],
   "source": [
    "# Calculate RMSE\n",
    "rmse = np.sqrt(mean_squared_error(targets, predictions))\n",
    "\n",
    "# Calculate R2 score\n",
    "r2 = r2_score(targets, predictions)\n",
    "\n",
    "print(\"RMSE:\", rmse)\n",
    "print(\"R2 score:\", r2)"
   ]
  },
  {
   "cell_type": "code",
   "execution_count": null,
   "metadata": {},
   "outputs": [
    {
     "name": "stderr",
     "output_type": "stream",
     "text": [
      "/tmp/ipykernel_1607845/3170230192.py:6: MatplotlibDeprecationWarning: The get_cmap function was deprecated in Matplotlib 3.7 and will be removed two minor releases later. Use ``matplotlib.colormaps[name]`` or ``matplotlib.colormaps.get_cmap(obj)`` instead.\n",
      "  cmap = cm.get_cmap(\"viridis\")\n"
     ]
    },
    {
     "data": {
      "image/png": "[encoded data removed]",
      "text/plain": [
       "<Figure size 640x480 with 2 Axes>"
      ]
     },
     "metadata": {},
     "output_type": "display_data"
    }
   ],
   "source": [
    "# Create a plot\n",
    "BUILD_LAYERS = 159\n",
    "dataset_index = [divmod(layer_index, 159)[0] for layer_index in test_indexes]\n",
    "dataset_markers = np.array([\"o\" if index == 0 else \"s\" for index in dataset_index])\n",
    "colored_layers = np.array([divmod(layer_index, 159)[1] for layer_index in test_indexes])\n",
    "cmap = cm.get_cmap(\"viridis\")\n",
    "# plt.scatter(targets, predictions, c=colored_layers, cmap=cmap, marker=dataset_markers)\n",
    "\n",
    "unique_markers = np.unique(dataset_markers)  # or yo can use: np.unique(m)\n",
    "\n",
    "x = targets.flatten()\n",
    "y = predictions.flatten()\n",
    "\n",
    "for marker in [\"o\", \"s\"]:\n",
    "    mask = dataset_markers == marker\n",
    "    # mask is now an array of booleans that can be used for indexing\n",
    "    label = \"Velocity\"\n",
    "    if (marker == \"o\"):\n",
    "        label = \"Spacing\"\n",
    "    plt.scatter(x[mask], y[mask], marker=marker, c=colored_layers[mask], cmap=cmap, label=label)\n",
    "\n",
    "plt.plot([targets.min(), targets.max()], [targets.min(), targets.max()], 'r-')\n",
    "plt.colorbar()\n",
    "\n",
    "# Set labels and title\n",
    "plt.xlabel('Targets')\n",
    "plt.ylabel('Predictions')\n",
    "plt.title('Pore Count')\n",
    "plt.legend()\n",
    "\n",
    "# Show plot\n",
    "plt.show()"
   ]
  },
  {
   "cell_type": "code",
   "execution_count": null,
   "metadata": {},
   "outputs": [],
   "source": []
  },
  {
   "cell_type": "code",
   "execution_count": null,
   "metadata": {},
   "outputs": [],
   "source": []
  },
  {
   "cell_type": "code",
   "execution_count": null,
   "metadata": {},
   "outputs": [],
   "source": []
  }
 ],
 "metadata": {
  "kernelspec": {
   "display_name": "venv",
   "language": "python",
   "name": "python3"
  },
  "language_info": {
   "codemirror_mode": {
    "name": "ipython",
    "version": 3
   },
   "file_extension": ".py",
   "mimetype": "text/x-python",
   "name": "python",
   "nbconvert_exporter": "python",
   "pygments_lexer": "ipython3",
   "version": "3.10.12"
  }
 },
 "nbformat": 4,
 "nbformat_minor": 2
}
