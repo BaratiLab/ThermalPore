{
 "cells": [
  {
   "cell_type": "markdown",
   "metadata": {},
   "source": [
    "# Render\n",
    "Renders Predictions and Targets"
   ]
  },
  {
   "cell_type": "code",
   "execution_count": 1,
   "metadata": {},
   "outputs": [],
   "source": [
    "import os\n",
    "import numpy as np\n",
    "import pickle\n",
    "import pyvista as pv\n",
    "pv.start_xvfb()\n",
    "\n",
    "from tqdm import tqdm"
   ]
  },
  {
   "cell_type": "code",
   "execution_count": null,
   "metadata": {},
   "outputs": [],
   "source": [
    "# Load Split Indexes\n",
    "train_indexes = np.load(\"./train_indexes.npy\")\n",
    "test_indexes = np.load(\"./test_indexes.npy\")\n",
    "\n",
    "train_length = len(test_indexes)\n",
    "test_length = len(test_indexes)\n",
    "\n",
    "print(f\"train_indexes ({train_length}): {train_indexes}\")\n",
    "print(f\"test_indexes ({test_length}): {test_indexes}\")"
   ]
  },
  {
   "cell_type": "code",
   "execution_count": 4,
   "metadata": {},
   "outputs": [],
   "source": [
    "EPOCHS = [50]"
   ]
  },
  {
   "cell_type": "code",
   "execution_count": 5,
   "metadata": {},
   "outputs": [],
   "source": [
    "if not os.path.isdir(\"renders\"):\n",
    "    os.mkdir(\"renders\")"
   ]
  },
  {
   "cell_type": "code",
   "execution_count": 8,
   "metadata": {},
   "outputs": [
    {
     "name": "stderr",
     "output_type": "stream",
     "text": [
      "  0%|          | 0/39 [00:00<?, ?it/s]/home/ppak/GitHub/Thermal-Image-Porosity-Prediction/venv/lib/python3.10/site-packages/pyvista/plotting/plotter.py:4178: RuntimeWarning: invalid value encountered in divide\n",
      "  np.true_divide((scalars - min_), (max_ - min_) / 255, out=scalars, casting='unsafe')\n",
      "100%|██████████| 39/39 [00:08<00:00,  4.85it/s]\n"
     ]
    }
   ],
   "source": [
    "# Render Predictions\n",
    "if not os.path.isdir(\"renders/predictions\"):\n",
    "    os.mkdir(\"renders/predictions\")\n",
    "\n",
    "for epoch in EPOCHS:\n",
    "\n",
    "    if not os.path.isdir(f\"renders/predictions/{epoch}\"):\n",
    "        os.mkdir(f\"renders/predictions/{epoch}\")\n",
    "\n",
    "    try:\n",
    "        with open(f\"predictions/{epoch}.p\", \"rb\") as predictions_file:\n",
    "            predictions = pickle.load(predictions_file)\n",
    "\n",
    "        predictions = np.array(predictions)\n",
    "\n",
    "        for index in tqdm(range(test_length)):\n",
    "\n",
    "            prediction = predictions[index][0].squeeze()\n",
    "            prediction = np.transpose(prediction, (1, 0, 2))\n",
    "\n",
    "            pl = pv.Plotter(notebook=True)\n",
    "            grid = pv.ImageData()\n",
    "            grid.dimensions = prediction.shape\n",
    "\n",
    "            grid.point_data[\"Values\"] = prediction.flatten(\"F\")\n",
    "            _ = pl.add_volume(grid, cmap=\"viridis\")\n",
    "\n",
    "            pl.screenshot(f\"renders/predictions/{epoch}/{index}_layer_{test_indexes[index]}.png\")\n",
    "\n",
    "    except Exception as e:\n",
    "        print(e)\n",
    "\n"
   ]
  },
  {
   "cell_type": "code",
   "execution_count": 9,
   "metadata": {},
   "outputs": [
    {
     "name": "stderr",
     "output_type": "stream",
     "text": [
      "100%|██████████| 39/39 [00:08<00:00,  4.77it/s]\n"
     ]
    }
   ],
   "source": [
    "# Render Predictions (Raw)\n",
    "if not os.path.isdir(\"renders/predictions_raw\"):\n",
    "    os.mkdir(\"renders/predictions_raw\")\n",
    "\n",
    "for epoch in EPOCHS:\n",
    "\n",
    "    if not os.path.isdir(f\"renders/predictions_raw/{epoch}\"):\n",
    "        os.mkdir(f\"renders/predictions_raw/{epoch}\")\n",
    "\n",
    "    try:\n",
    "\n",
    "        with open(f\"predictions_raw/{epoch}.p\", \"rb\") as predictions_raw_file:\n",
    "            predictions_raw = pickle.load(predictions_raw_file)\n",
    "\n",
    "        predictions_raw = np.array(predictions_raw)\n",
    "\n",
    "        for index in tqdm(range(test_length)):\n",
    "\n",
    "            prediction_raw = predictions_raw[index][0].squeeze()\n",
    "            prediction_raw = np.transpose(prediction_raw, (1, 0, 2))\n",
    "\n",
    "            pl = pv.Plotter(notebook=True)\n",
    "            grid = pv.ImageData()\n",
    "            grid.dimensions = prediction_raw.shape\n",
    "\n",
    "            grid.point_data[\"Values\"] = prediction_raw.flatten(\"F\")\n",
    "            _ = pl.add_volume(grid, cmap=\"viridis\")\n",
    "\n",
    "            pl.screenshot(f\"renders/predictions_raw/{epoch}/{index}_layer_{test_indexes[index]}.png\")\n",
    "\n",
    "    except Exception as e:\n",
    "        print(e)\n",
    "\n"
   ]
  },
  {
   "cell_type": "code",
   "execution_count": 21,
   "metadata": {},
   "outputs": [
    {
     "name": "stderr",
     "output_type": "stream",
     "text": [
      "  0%|          | 0/39 [00:00<?, ?it/s]"
     ]
    },
    {
     "name": "stderr",
     "output_type": "stream",
     "text": [
      "100%|██████████| 39/39 [00:08<00:00,  4.78it/s]\n"
     ]
    }
   ],
   "source": [
    "# Render Targets\n",
    "\n",
    "with open(f\"targets.p\", \"rb\") as targets_file:\n",
    "    targets = pickle.load(targets_file)\n",
    "\n",
    "if not os.path.isdir(f\"renders/targets\"):\n",
    "    os.mkdir(f\"renders/targets\")\n",
    "\n",
    "try:\n",
    "\n",
    "    for index in tqdm(range(test_length)):\n",
    "\n",
    "        target = targets[index][0].squeeze()\n",
    "        target = np.transpose(target, (1, 0, 2))\n",
    "        target = np.array(target)\n",
    "\n",
    "        pl = pv.Plotter(notebook=True)\n",
    "        grid = pv.ImageData()\n",
    "        grid.dimensions = target.shape\n",
    "\n",
    "        grid.point_data[\"Values\"] = target.flatten(\"F\")\n",
    "        _ = pl.add_volume(grid, cmap=\"viridis\")\n",
    "\n",
    "        pl.screenshot(f\"renders/targets/{index}_layer_{test_indexes[index]}.png\")\n",
    "\n",
    "except Exception as e:\n",
    "    print(e)"
   ]
  },
  {
   "cell_type": "code",
   "execution_count": null,
   "metadata": {},
   "outputs": [],
   "source": []
  },
  {
   "cell_type": "code",
   "execution_count": null,
   "metadata": {},
   "outputs": [],
   "source": []
  }
 ],
 "metadata": {
  "kernelspec": {
   "display_name": "venv",
   "language": "python",
   "name": "python3"
  },
  "language_info": {
   "codemirror_mode": {
    "name": "ipython",
    "version": 3
   },
   "file_extension": ".py",
   "mimetype": "text/x-python",
   "name": "python",
   "nbconvert_exporter": "python",
   "pygments_lexer": "ipython3",
   "version": "3.10.12"
  }
 },
 "nbformat": 4,
 "nbformat_minor": 2
}
