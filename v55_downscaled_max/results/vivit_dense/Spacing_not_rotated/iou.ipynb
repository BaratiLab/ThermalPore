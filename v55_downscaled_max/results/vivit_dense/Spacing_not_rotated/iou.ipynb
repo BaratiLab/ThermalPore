{
 "cells": [
  {
   "cell_type": "markdown",
   "metadata": {},
   "source": [
    "# IoU"
   ]
  },
  {
   "cell_type": "code",
   "execution_count": 29,
   "metadata": {},
   "outputs": [],
   "source": [
    "import os\n",
    "import numpy as np\n",
    "import pickle\n",
    "import matplotlib.pyplot as plt\n",
    "import matplotlib.animation as animation\n",
    "import matplotlib.patches as mpatches\n",
    "import torch\n",
    "\n",
    "from torchmetrics import JaccardIndex\n",
    "from matplotlib.colors import ListedColormap\n",
    "from tqdm import tqdm\n",
    "from initialize import initialize_model, load_config\n",
    "from dataset import Dataset"
   ]
  },
  {
   "cell_type": "code",
   "execution_count": 30,
   "metadata": {},
   "outputs": [],
   "source": [
    "dataset_config = {\n",
    "  **load_config(\"./dataset.cfg\"),\n",
    "  \"datasets_dir\": \"../../../../../datasets\"\n",
    "}"
   ]
  },
  {
   "cell_type": "code",
   "execution_count": 31,
   "metadata": {},
   "outputs": [
    {
     "name": "stdout",
     "output_type": "stream",
     "text": [
      "train_indexes (120): [123  89 103  10 157   2 158 121  72 109  19  65  91  66  33  25 102  64\n",
      "  59 118 141  60   7  14  70  79 130  53 115 122  96  63  97 136  36 135\n",
      "  42  56  15  27 129  93 107  24   4  31  40  95  18 144  67  92 119 154\n",
      "  78  84  62  87 142   6  76 146  51 155 124 156 143  20  61 101 106 131\n",
      "  43  90 153  44 127 151  45  21  46 140  16 149 108 152 120  11 125  13\n",
      "  28  82  86  69  88  39 132 114 150  98  54  30 134 116   9   8  37  38\n",
      " 111 139  81  71  57  50  26  49   1  75  41 105]\n",
      "test_indexes (39): [148  58  55  22 110  68 147 100  34  32 133  48  80  52  94   5 126 117\n",
      "  73  83  17 104 113  29  85 138  99  12 128  74   0 112  35  77  23 137\n",
      "  47   3 145]\n"
     ]
    }
   ],
   "source": [
    "# Load Split Indexes\n",
    "train_indexes = np.load(\"./train_indexes.npy\")\n",
    "test_indexes = np.load(\"./test_indexes.npy\")\n",
    "\n",
    "print(f\"train_indexes ({len(train_indexes)}): {train_indexes}\")\n",
    "print(f\"test_indexes ({len(test_indexes)}): {test_indexes}\")"
   ]
  },
  {
   "cell_type": "code",
   "execution_count": 32,
   "metadata": {},
   "outputs": [],
   "source": [
    "EPOCH = 1000"
   ]
  },
  {
   "cell_type": "code",
   "execution_count": 33,
   "metadata": {},
   "outputs": [
    {
     "name": "stdout",
     "output_type": "stream",
     "text": [
      "[0.04761905 0.4        0.29268292 0.42424244 0.46341464 0.625\n",
      " 0.38636363 0.5        0.5131579  0.42857143 0.65625    0.20779221\n",
      " 0.77011496 0.5        0.4597701  0.5955056  0.43617022 0.73333335\n",
      " 0.6796116  0.6460177  0.03703704 0.36363637 0.125      0.11111111\n",
      " 0.03571429 0.         0.14285715 0.05555556 0.07894737 0.08333334\n",
      " 0.06896552 0.15384616 0.         0.         0.04347826 0.\n",
      " 0.         0.         0.        ]\n"
     ]
    },
    {
     "name": "stderr",
     "output_type": "stream",
     "text": [
      "/tmp/ipykernel_1810956/2489343879.py:35: UserWarning: To copy construct from a tensor, it is recommended to use sourceTensor.clone().detach() or sourceTensor.clone().detach().requires_grad_(True), rather than torch.tensor(sourceTensor).\n",
      "  build_layer_iou = jaccard(torch.tensor(prediction), torch.tensor(target))\n",
      "/tmp/ipykernel_1810956/2489343879.py:36: UserWarning: To copy construct from a tensor, it is recommended to use sourceTensor.clone().detach() or sourceTensor.clone().detach().requires_grad_(True), rather than torch.tensor(sourceTensor).\n",
      "  build_layer_iou_ignore = jaccard_ignore(torch.tensor(prediction), torch.tensor(target))\n"
     ]
    }
   ],
   "source": [
    "jaccard = JaccardIndex(task=\"multiclass\", num_classes=2)\n",
    "jaccard_ignore = JaccardIndex(task=\"multiclass\", num_classes=2, ignore_index=0)\n",
    "\n",
    "if not os.path.isdir(\"iou\"):\n",
    "    os.mkdir(\"iou\")\n",
    "\n",
    "# epochs_iou = []\n",
    "# epochs_iou_ignore = []\n",
    "# epochs_predictions = []\n",
    "\n",
    "with open(f\"./targets.p\", \"rb\") as targets_file:\n",
    "    targets = pickle.load(targets_file)\n",
    "\n",
    "test_length = len(test_indexes)\n",
    "\n",
    "if not os.path.isdir(f\"iou/{EPOCH}\"):\n",
    "    os.mkdir(f\"iou/{EPOCH}\")\n",
    "\n",
    "build_layers_iou = []\n",
    "build_layers_iou_ignore = []\n",
    "for index in range(test_length):\n",
    "    predictions = []\n",
    "\n",
    "    with open(f\"./predictions/{EPOCH}.p\", \"rb\") as predictions_file:\n",
    "        predictions = pickle.load(predictions_file)\n",
    "\n",
    "    prediction = predictions[index].squeeze()\n",
    "    # prediction = np.transpose(prediction, (1, 0, 2))\n",
    "\n",
    "    target = targets[index].squeeze()\n",
    "    # target = np.transpose(target, (1, 0, 2))\n",
    "\n",
    "    # print(prediction.shape)\n",
    "\n",
    "    build_layer_iou = jaccard(torch.tensor(prediction), torch.tensor(target))\n",
    "    build_layer_iou_ignore = jaccard_ignore(torch.tensor(prediction), torch.tensor(target))\n",
    "\n",
    "    # Sets correct prediction of no pores to 1.\n",
    "    prediction_not_empty = np.any(np.array(prediction) == 1)\n",
    "    target_not_empty = np.any(np.array(target) == 1)\n",
    "\n",
    "    # print(np.unique(prediction), np.unique(target))\n",
    "\n",
    "    if (not target_not_empty):\n",
    "        build_layer_iou_ignore = torch.tensor(0.0)\n",
    "        build_layer_iou = torch.tensor(0.0)\n",
    "\n",
    "    if (not prediction_not_empty and not target_not_empty):\n",
    "        # print(index, prediction_not_empty, target_not_empty)\n",
    "        build_layer_iou_ignore = torch.tensor(1.0)\n",
    "        build_layer_iou = torch.tensor(1.0)\n",
    "\n",
    "    build_layers_iou.append(build_layer_iou)\n",
    "    build_layers_iou_ignore.append(build_layer_iou_ignore)\n",
    "\n",
    "predictions_numpy = []\n",
    "targets_numpy = []\n",
    "\n",
    "for prediction in predictions:\n",
    "    # print(prediction.shape)\n",
    "    predictions_numpy.append(np.array(prediction))\n",
    "\n",
    "for target in targets:\n",
    "    # print(target.shape)\n",
    "    targets_numpy.append(np.array(target))\n",
    "\n",
    "predictions = np.array(predictions_numpy)\n",
    "targets = np.array(targets_numpy)\n",
    "\n",
    "# predictions = np.array([value for _, value in sorted(zip(test_indexes, predictions))])\n",
    "# targets = np.array([value for _, value in sorted(zip(test_indexes, targets))])\n",
    "\n",
    "iou = np.array([value for _, value in sorted(zip(test_indexes, build_layers_iou))])\n",
    "# epochs_iou.append(epoch_iou)\n",
    "\n",
    "iou_ignore = np.array([value for _, value in sorted(zip(test_indexes, build_layers_iou_ignore))])\n",
    "print(iou_ignore)\n",
    "# epochs_iou_ignore.append(epoch_iou_ignore)\n",
    "\n",
    "# epochs_predictions.append(predictions)"
   ]
  },
  {
   "cell_type": "code",
   "execution_count": 34,
   "metadata": {},
   "outputs": [
    {
     "name": "stdout",
     "output_type": "stream",
     "text": [
      "39 [0.04761905 0.4        0.29268292 0.42424244 0.46341464 0.625\n",
      " 0.38636363 0.5        0.5131579  0.42857143 0.65625    0.20779221\n",
      " 0.77011496 0.5        0.4597701  0.5955056  0.43617022 0.73333335\n",
      " 0.6796116  0.6460177  0.03703704 0.36363637 0.125      0.11111111\n",
      " 0.03571429 0.         0.14285715 0.05555556 0.07894737 0.08333334\n",
      " 0.06896552 0.15384616 0.         0.         0.04347826 0.\n",
      " 0.         0.         0.        ]\n",
      "39 [0 0 0 0 0 0 0 0 0 0 0 0 0 0 0 0 0 0 0 0 0 0 0 0 0 0 0 0 0 0 0 0 0 0 0 0 0\n",
      " 0 0]\n",
      "39 [148  58  55  22 110  68 147 100  34  32 133  48  80  52  94   5 126 117\n",
      "  73  83  17 104 113  29  85 138  99  12 128  74   0 112  35  77  23 137\n",
      "  47   3 145]\n"
     ]
    }
   ],
   "source": [
    "# sorted_test_indexes = sorted(test_indexes)\n",
    "# print(sorted_test_indexes)\n",
    "\n",
    "dataset_index = np.array([divmod(layer_index, 159)[0] for layer_index in test_indexes])\n",
    "build_layer_index = np.array([divmod(layer_index, 159)[1] for layer_index in test_indexes])\n",
    "\n",
    "spacing_mask = dataset_index == 0\n",
    "velocity_mask = dataset_index == 1\n",
    "\n",
    "print(len(iou_ignore), iou_ignore)\n",
    "print(len(dataset_index), dataset_index)\n",
    "print(len(build_layer_index), build_layer_index)\n",
    "# print(spacing_mask)\n",
    "# print(velocity_mask)\n"
   ]
  },
  {
   "cell_type": "code",
   "execution_count": 35,
   "metadata": {},
   "outputs": [
    {
     "name": "stdout",
     "output_type": "stream",
     "text": [
      "Epoch 1000 -> min: 0.0, mean: 0.2837204933166504, max: 0.7701149582862854\n"
     ]
    }
   ],
   "source": [
    "spacing_build_layers = build_layer_index[spacing_mask]\n",
    "spacing_sorted = np.argsort(spacing_build_layers)\n",
    "spacing_sorted_build_layers = spacing_build_layers[spacing_sorted]\n",
    "\n",
    "spacing_iou = iou_ignore[spacing_mask]\n",
    "# spacing_sorted_iou = spacing_iou[spacing_sorted]\n",
    "\n",
    "velocity_build_layers = build_layer_index[velocity_mask]\n",
    "velocity_sorted = np.argsort(velocity_build_layers)\n",
    "velocity_sorted_build_layers = velocity_build_layers[velocity_sorted]\n",
    "\n",
    "# print(velocity_build_layers)\n",
    "# print(velocity_sorted_build_layers)\n",
    "\n",
    "velocity_iou = iou_ignore[velocity_mask]\n",
    "# velocity_sorted_iou = velocity_iou[velocity_sorted]\n",
    "\n",
    "# print(velocity_iou)\n",
    "# print(velocity_sorted_iou)\n",
    "\n",
    "min, mean, max = np.min(iou_ignore), np.mean(iou_ignore), np.max(iou_ignore)\n",
    "print(f\"Epoch {EPOCH} -> min: {min}, mean: {mean}, max: {max}\")"
   ]
  },
  {
   "cell_type": "code",
   "execution_count": 36,
   "metadata": {},
   "outputs": [
    {
     "data": {
      "image/png": "[encoded data removed]",
      "text/plain": [
       "<Figure size 600x600 with 1 Axes>"
      ]
     },
     "metadata": {},
     "output_type": "display_data"
    }
   ],
   "source": [
    "plt.figure(figsize=(6, 6))\n",
    "plt.bar(\n",
    "    spacing_sorted_build_layers,\n",
    "    spacing_iou,\n",
    "    color=\"red\",\n",
    "    width=5,\n",
    "    alpha=0.5,\n",
    "    label=\"Spacing\",\n",
    ")\n",
    "# plt.bar(\n",
    "#     velocity_sorted_build_layers,\n",
    "#     velocity_iou,\n",
    "#     color=\"blue\",\n",
    "#     width=5,\n",
    "#     alpha=0.5,\n",
    "#     label=\"Velocity\"\n",
    "# )\n",
    "\n",
    "# Increase border thickness\n",
    "plt.gca().spines['top'].set_linewidth(2)\n",
    "plt.gca().spines['right'].set_linewidth(2)\n",
    "plt.gca().spines['bottom'].set_linewidth(2)\n",
    "plt.gca().spines['left'].set_linewidth(2)\n",
    "\n",
    "# Add labels and title\n",
    "plt.xlabel('Build Layer', fontsize=18)\n",
    "plt.ylabel('Pore Localization IoU', fontsize=18)\n",
    "plt.ylim([0, 1])\n",
    "plt.tick_params(direction=\"in\", labelsize=14, width=2)\n",
    "\n",
    "plt.legend(fontsize=18)\n",
    "plt.savefig(f\"iou/{EPOCH}/ignore_background.png\")\n",
    "plt.savefig(f\"../../../../../analysis/notebooks/figures/pore_localization/spacing_not_rotated.png\")\n",
    "plt.show()"
   ]
  },
  {
   "cell_type": "code",
   "execution_count": 40,
   "metadata": {},
   "outputs": [
    {
     "name": "stdout",
     "output_type": "stream",
     "text": [
      "0\n",
      "39\n",
      "torch.Size([16, 16])\n",
      "torch.Size([16, 16, 1])\n",
      "layer 58\n"
     ]
    },
    {
     "name": "stderr",
     "output_type": "stream",
     "text": [
      "  0%|          | 0/1 [00:00<?, ?it/s]"
     ]
    },
    {
     "name": "stderr",
     "output_type": "stream",
     "text": [
      "100%|██████████| 1/1 [00:00<00:00,  8.37it/s]"
     ]
    },
    {
     "name": "stdout",
     "output_type": "stream",
     "text": [
      "(16, 16)\n",
      "3 0.4\n"
     ]
    },
    {
     "name": "stderr",
     "output_type": "stream",
     "text": [
      "\n"
     ]
    },
    {
     "data": {
      "image/png": "[encoded data removed]",
      "text/plain": [
       "<Figure size 600x600 with 4 Axes>"
      ]
     },
     "metadata": {},
     "output_type": "display_data"
    }
   ],
   "source": [
    "# indexes = train_indexes\n",
    "indexes = test_indexes\n",
    "\n",
    "dataset = Dataset(dataset_config, indexes = indexes)\n",
    "INDEX = 1\n",
    "print(dataset_index[INDEX])\n",
    "\n",
    "item = dataset.__getitem__(INDEX)\n",
    "length = len(dataset)\n",
    "print(length)\n",
    "# print(item[1])\n",
    "print(target.shape)\n",
    "print(item[1].shape)\n",
    "\n",
    "print(f\"layer {test_indexes[INDEX]}\")\n",
    "\n",
    "for index in tqdm([INDEX]):\n",
    "# for index in tqdm(range(test_length)):\n",
    "    prediction = predictions[index].squeeze()\n",
    "    print(prediction.shape)\n",
    "    target = item[1].squeeze()\n",
    "    # target = targets[index].squeeze()\n",
    "\n",
    "    print(spacing_sorted_build_layers[index], spacing_iou[index])\n",
    "\n",
    "    fig, axes = plt.subplots(2, 2, figsize=(6, 6))\n",
    "\n",
    "    cmap = plt.get_cmap('viridis')\n",
    "    cmap_zero_transparent = ListedColormap(cmap(np.arange(cmap.N)))\n",
    "    cmap_zero_transparent.set_bad(alpha=0)\n",
    "\n",
    "    plt.subplots_adjust(top=0.85)\n",
    "\n",
    "    # fig.suptitle(f\"Build Layer: {spacing_sorted_build_layers[index]}, IOU: {iou:.3f} IOU (ignore bg): {iou_ignore:.3f}\", fontsize=18)\n",
    "\n",
    "    axes[0][0].clear()\n",
    "    axes[0][0].set_title(\"Prediction\", fontsize=12)\n",
    "    prediction_nan = np.where(prediction == 0, np.nan, prediction + 1)\n",
    "    axes[0][0].imshow(prediction_nan, vmin=0, vmax=3, cmap=cmap_zero_transparent)\n",
    "\n",
    "    axes[0][1].clear()\n",
    "    axes[0][1].set_title(\"Ground Truth\", fontsize=12)\n",
    "    target_nan = np.where(target == 0, np.nan, target)\n",
    "    axes[0][1].imshow(target_nan, vmin=0, vmax=3, cmap=cmap_zero_transparent)\n",
    "\n",
    "    axes[1][0].clear()\n",
    "    axes[1][0].set_title(\"Intersection\", fontsize=12)\n",
    "\n",
    "    scaled_prediction = prediction * 2\n",
    "    values = target + scaled_prediction\n",
    "    values_nan = np.where(values == 0, np.nan, values)\n",
    "\n",
    "    img_2 = axes[1][0].imshow(values_nan, vmin=0, vmax=3, cmap=cmap_zero_transparent)\n",
    "\n",
    "    # Add legend for values 1 and 2\n",
    "    legend_elements = [\n",
    "        mpatches.Patch(color=img_2.cmap(0.33), label='Ground Truth'),\n",
    "        mpatches.Patch(color=img_2.cmap(0.66), label='Prediction'),\n",
    "        mpatches.Patch(color=img_2.cmap(1.0), label='Intersection'),\n",
    "    ]\n",
    "    # axes[1][0].legend(handles=legend_elements, loc=\"upper right\")\n",
    "\n",
    "    error = target - prediction + 1\n",
    "    error_nan = np.where(error == 1, np.nan, error)\n",
    "    error_nan = np.where(error == 0, 2, error_nan)\n",
    "    error_nan = np.where(error == 2, 1, error_nan)\n",
    "\n",
    "    axes[1][1].clear()\n",
    "    axes[1][1].set_title(\"Error\", fontsize=12)\n",
    "\n",
    "    # Increase border thickness\n",
    "    for x in range(2):\n",
    "        for y in range(2):\n",
    "            axes[x][y].spines['top'].set_linewidth(0)\n",
    "            axes[x][y].spines['right'].set_linewidth(0)\n",
    "            axes[x][y].spines['bottom'].set_linewidth(0)\n",
    "            axes[x][y].spines['left'].set_linewidth(0)\n",
    "            axes[x][y].tick_params(axis=\"both\", which=\"both\", bottom=False, top=False, left=False, right=False, labelbottom=False, labelleft=False)\n",
    "\n",
    "    img_3 = axes[1][1].imshow(error_nan, vmin=0, vmax=3, cmap=cmap_zero_transparent)\n",
    "\n",
    "    # Add legend for values 1 and 2\n",
    "    legend_elements = [\n",
    "        mpatches.Patch(color=img_3.cmap(0.0), label='Ground Truth'),\n",
    "        mpatches.Patch(color=img_3.cmap(1.0), label='Prediction'),\n",
    "    ]\n",
    "\n",
    "    # axes[1][1].legend(handles=legend_elements, loc=\"upper right\")\n"
   ]
  },
  {
   "cell_type": "code",
   "execution_count": null,
   "metadata": {},
   "outputs": [],
   "source": []
  }
 ],
 "metadata": {
  "kernelspec": {
   "display_name": "venv",
   "language": "python",
   "name": "python3"
  },
  "language_info": {
   "codemirror_mode": {
    "name": "ipython",
    "version": 3
   },
   "file_extension": ".py",
   "mimetype": "text/x-python",
   "name": "python",
   "nbconvert_exporter": "python",
   "pygments_lexer": "ipython3",
   "version": "3.8.10"
  }
 },
 "nbformat": 4,
 "nbformat_minor": 2
}
