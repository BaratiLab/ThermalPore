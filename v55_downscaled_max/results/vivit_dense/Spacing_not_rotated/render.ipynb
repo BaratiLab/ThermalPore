{
 "cells": [
  {
   "cell_type": "markdown",
   "metadata": {},
   "source": [
    "# Render\n",
    "Renders Predictions and Targets"
   ]
  },
  {
   "cell_type": "code",
   "execution_count": 1,
   "metadata": {},
   "outputs": [],
   "source": [
    "import os\n",
    "import numpy as np\n",
    "import pickle\n",
    "import pyvista as pv\n",
    "pv.start_xvfb()\n",
    "\n",
    "from tqdm import tqdm"
   ]
  },
  {
   "cell_type": "code",
   "execution_count": 2,
   "metadata": {},
   "outputs": [
    {
     "name": "stdout",
     "output_type": "stream",
     "text": [
      "train_indexes (39): [123  89 103  10 157   2 158 121  72 109  19  65  91  66  33  25 102  64\n",
      "  59 118 141  60   7  14  70  79 130  53 115 122  96  63  97 136  36 135\n",
      "  42  56  15  27 129  93 107  24   4  31  40  95  18 144  67  92 119 154\n",
      "  78  84  62  87 142   6  76 146  51 155 124 156 143  20  61 101 106 131\n",
      "  43  90 153  44 127 151  45  21  46 140  16 149 108 152 120  11 125  13\n",
      "  28  82  86  69  88  39 132 114 150  98  54  30 134 116   9   8  37  38\n",
      " 111 139  81  71  57  50  26  49   1  75  41 105]\n",
      "test_indexes (39): [148  58  55  22 110  68 147 100  34  32 133  48  80  52  94   5 126 117\n",
      "  73  83  17 104 113  29  85 138  99  12 128  74   0 112  35  77  23 137\n",
      "  47   3 145]\n"
     ]
    }
   ],
   "source": [
    "# Load Split Indexes\n",
    "train_indexes = np.load(\"./train_indexes.npy\")\n",
    "test_indexes = np.load(\"./test_indexes.npy\")\n",
    "\n",
    "train_length = len(test_indexes)\n",
    "test_length = len(test_indexes)\n",
    "\n",
    "print(f\"train_indexes ({train_length}): {train_indexes}\")\n",
    "print(f\"test_indexes ({test_length}): {test_indexes}\")"
   ]
  },
  {
   "cell_type": "code",
   "execution_count": 3,
   "metadata": {},
   "outputs": [],
   "source": [
    "EPOCHS = [100]"
   ]
  },
  {
   "cell_type": "code",
   "execution_count": 4,
   "metadata": {},
   "outputs": [],
   "source": [
    "if not os.path.isdir(\"renders\"):\n",
    "    os.mkdir(\"renders\")"
   ]
  },
  {
   "cell_type": "code",
   "execution_count": 5,
   "metadata": {},
   "outputs": [
    {
     "name": "stderr",
     "output_type": "stream",
     "text": [
      "  0%|          | 0/39 [00:00<?, ?it/s]"
     ]
    },
    {
     "name": "stderr",
     "output_type": "stream",
     "text": [
      " 64%|██████▍   | 25/39 [00:10<00:05,  2.38it/s]/home/ppak/GitHub/Thermal-Image-Porosity-Prediction/venv/lib/python3.8/site-packages/pyvista/plotting/plotter.py:4178: RuntimeWarning: invalid value encountered in divide\n",
      "  np.true_divide((scalars - min_), (max_ - min_) / 255, out=scalars, casting='unsafe')\n",
      "100%|██████████| 39/39 [00:16<00:00,  2.39it/s]\n"
     ]
    }
   ],
   "source": [
    "# Render Predictions\n",
    "if not os.path.isdir(\"renders/predictions\"):\n",
    "    os.mkdir(\"renders/predictions\")\n",
    "\n",
    "for epoch in EPOCHS:\n",
    "\n",
    "    if not os.path.isdir(f\"renders/predictions/{epoch}\"):\n",
    "        os.mkdir(f\"renders/predictions/{epoch}\")\n",
    "\n",
    "    try:\n",
    "        with open(f\"predictions/{epoch}.p\", \"rb\") as predictions_file:\n",
    "            predictions = pickle.load(predictions_file)\n",
    "\n",
    "        predictions = np.array(predictions)\n",
    "\n",
    "        for index in tqdm(range(test_length)):\n",
    "\n",
    "            prediction = predictions[index][0]\n",
    "            prediction = np.transpose(prediction, (1, 0, 2))\n",
    "\n",
    "            pl = pv.Plotter(notebook=True)\n",
    "            grid = pv.ImageData()\n",
    "            grid.dimensions = prediction.shape\n",
    "\n",
    "            grid.point_data[\"Values\"] = prediction.flatten(\"F\")\n",
    "            _ = pl.add_volume(grid, cmap=\"viridis\")\n",
    "\n",
    "            pl.screenshot(f\"renders/predictions/{epoch}/{index}_layer_{test_indexes[index]}.png\")\n",
    "            pl.close()\n",
    "\n",
    "    except Exception as e:\n",
    "        print(e)\n",
    "\n"
   ]
  },
  {
   "cell_type": "code",
   "execution_count": 6,
   "metadata": {},
   "outputs": [
    {
     "name": "stderr",
     "output_type": "stream",
     "text": [
      "  0%|          | 0/39 [00:00<?, ?it/s]"
     ]
    },
    {
     "name": "stderr",
     "output_type": "stream",
     "text": [
      "100%|██████████| 39/39 [00:16<00:00,  2.31it/s]\n"
     ]
    }
   ],
   "source": [
    "# Render Predictions (Raw)\n",
    "if not os.path.isdir(\"renders/predictions_raw\"):\n",
    "    os.mkdir(\"renders/predictions_raw\")\n",
    "\n",
    "for epoch in EPOCHS:\n",
    "\n",
    "    if not os.path.isdir(f\"renders/predictions_raw/{epoch}\"):\n",
    "        os.mkdir(f\"renders/predictions_raw/{epoch}\")\n",
    "\n",
    "    try:\n",
    "\n",
    "        with open(f\"predictions_raw/{epoch}.p\", \"rb\") as predictions_raw_file:\n",
    "            predictions_raw = pickle.load(predictions_raw_file)\n",
    "\n",
    "        predictions_raw = np.array(predictions_raw)\n",
    "\n",
    "        for index in tqdm(range(test_length)):\n",
    "\n",
    "            prediction_raw = predictions_raw[index][0]\n",
    "            prediction_raw = np.transpose(prediction_raw, (1, 0, 2))\n",
    "\n",
    "            pl = pv.Plotter(notebook=True)\n",
    "            grid = pv.ImageData()\n",
    "            grid.dimensions = prediction_raw.shape\n",
    "\n",
    "            grid.point_data[\"Values\"] = prediction_raw.flatten(\"F\")\n",
    "            _ = pl.add_volume(grid, cmap=\"viridis\")\n",
    "\n",
    "            pl.screenshot(f\"renders/predictions_raw/{epoch}/{index}_layer_{test_indexes[index]}.png\")\n",
    "            pl.close()\n",
    "\n",
    "    except Exception as e:\n",
    "        print(e)\n",
    "\n"
   ]
  },
  {
   "cell_type": "code",
   "execution_count": 7,
   "metadata": {},
   "outputs": [
    {
     "name": "stderr",
     "output_type": "stream",
     "text": [
      "100%|██████████| 39/39 [00:17<00:00,  2.22it/s]\n"
     ]
    }
   ],
   "source": [
    "# Render Targets\n",
    "\n",
    "with open(f\"targets.p\", \"rb\") as targets_file:\n",
    "    targets = pickle.load(targets_file)\n",
    "\n",
    "if not os.path.isdir(f\"renders/targets\"):\n",
    "    os.mkdir(f\"renders/targets\")\n",
    "\n",
    "try:\n",
    "\n",
    "    for index in tqdm(range(test_length)):\n",
    "\n",
    "        target = targets[index][0]\n",
    "        target = np.transpose(target, (1, 0, 2))\n",
    "        target = np.array(target)\n",
    "\n",
    "        pl = pv.Plotter(notebook=True)\n",
    "        grid = pv.ImageData()\n",
    "        grid.dimensions = target.shape\n",
    "\n",
    "        grid.point_data[\"Values\"] = target.flatten(\"F\")\n",
    "        _ = pl.add_volume(grid, cmap=\"viridis\")\n",
    "\n",
    "        pl.screenshot(f\"renders/targets/{index}_layer_{test_indexes[index]}.png\")\n",
    "        pl.close()\n",
    "\n",
    "except Exception as e:\n",
    "    print(e)"
   ]
  },
  {
   "cell_type": "code",
   "execution_count": null,
   "metadata": {},
   "outputs": [],
   "source": []
  },
  {
   "cell_type": "code",
   "execution_count": null,
   "metadata": {},
   "outputs": [],
   "source": []
  }
 ],
 "metadata": {
  "kernelspec": {
   "display_name": "venv",
   "language": "python",
   "name": "python3"
  },
  "language_info": {
   "codemirror_mode": {
    "name": "ipython",
    "version": 3
   },
   "file_extension": ".py",
   "mimetype": "text/x-python",
   "name": "python",
   "nbconvert_exporter": "python",
   "pygments_lexer": "ipython3",
   "version": "3.8.10"
  }
 },
 "nbformat": 4,
 "nbformat_minor": 2
}
