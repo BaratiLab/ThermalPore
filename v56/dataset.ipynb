{
 "cells": [
  {
   "cell_type": "markdown",
   "metadata": {},
   "source": [
    "# Dataset\n",
    "Test dataset script"
   ]
  },
  {
   "cell_type": "code",
   "execution_count": 1,
   "metadata": {},
   "outputs": [],
   "source": [
    "import numpy as np\n",
    "import pyvista as pv\n",
    "import torch\n",
    "\n",
    "pv.start_xvfb()\n",
    "\n",
    "from dataset import Dataset\n",
    "from initialize import initialize_model, load_config\n",
    "from pprint import pprint\n",
    "from sys import getsizeof\n",
    "from torch.utils.data import DataLoader\n"
   ]
  },
  {
   "cell_type": "code",
   "execution_count": 2,
   "metadata": {},
   "outputs": [
    {
     "name": "stdout",
     "output_type": "stream",
     "text": [
      "{'channels': 1,\n",
      " 'ct_type': 'pores',\n",
      " 'dataset': 'Spacing',\n",
      " 'datasets_dir': '../../datasets',\n",
      " 'downsampling_factor': 6,\n",
      " 'frame_length': 200,\n",
      " 'heatmap_norm': 'max',\n",
      " 'layer_index_offset': 1,\n",
      " 'pore_boundary_size': (325, 200, 200),\n",
      " 'std_threshold_eq_diameter_pores': 1,\n",
      " 'voxels_below_layer': 9,\n",
      " 'x_crop_adjust_voxel': 3,\n",
      " 'x_crop_pixel': 8,\n",
      " 'y_crop_adjust_voxel': 3,\n",
      " 'y_crop_pixel': 1}\n"
     ]
    }
   ],
   "source": [
    "# Load Configs\n",
    "config = load_config(\"dataset.cfg\")\n",
    "pprint(config)"
   ]
  },
  {
   "cell_type": "code",
   "execution_count": 3,
   "metadata": {},
   "outputs": [],
   "source": [
    "# Splits dataset into test and train\n",
    "# train_indexes, test_indexes = split_dataset()\n",
    "# print(f\"train_indexes ({len(train_indexes)}): {train_indexes}\")\n",
    "# print(f\"test_indexes ({len(test_indexes)}): {test_indexes}\")"
   ]
  },
  {
   "cell_type": "code",
   "execution_count": 4,
   "metadata": {},
   "outputs": [],
   "source": [
    "dataset = Dataset(config, dev=True)\n",
    "dataloader = DataLoader(dataset, batch_size = 1, shuffle = False)"
   ]
  },
  {
   "cell_type": "code",
   "execution_count": 5,
   "metadata": {},
   "outputs": [
    {
     "name": "stdout",
     "output_type": "stream",
     "text": [
      "2068\n"
     ]
    }
   ],
   "source": [
    "print(len(dataset))"
   ]
  },
  {
   "cell_type": "code",
   "execution_count": 6,
   "metadata": {},
   "outputs": [],
   "source": [
    "# import sys\n",
    "# import torch\n",
    "# b = torch.empty(6, 9, 7, 1, dtype=torch.bool)\n",
    "# print(sys.getsizeof(b.storage())) # 1310776 (bytes)\n",
    "# a = torch.empty(6, 9, 7, 1, dtype=torch.uint8)\n",
    "# print(sys.getsizeof(a.storage())) # 1310776 (bytes)"
   ]
  },
  {
   "cell_type": "code",
   "execution_count": 7,
   "metadata": {},
   "outputs": [
    {
     "name": "stderr",
     "output_type": "stream",
     "text": [
      "  0%|          | 0/1000 [00:00<?, ?it/s]"
     ]
    },
    {
     "name": "stdout",
     "output_type": "stream",
     "text": [
      "TRAINING ON ENTIRE DATASET\n"
     ]
    },
    {
     "name": "stderr",
     "output_type": "stream",
     "text": [
      "\n"
     ]
    },
    {
     "ename": "TypeError",
     "evalue": "can't convert np.ndarray of type numpy.uint32. The only supported types are: float64, float32, float16, complex64, complex128, int64, int32, int16, int8, uint8, and bool.",
     "output_type": "error",
     "traceback": [
      "\u001b[0;31m---------------------------------------------------------------------------\u001b[0m",
      "\u001b[0;31mTypeError\u001b[0m                                 Traceback (most recent call last)",
      "Cell \u001b[0;32mIn[7], line 4\u001b[0m\n\u001b[1;32m      2\u001b[0m \u001b[38;5;28;01mfrom\u001b[39;00m \u001b[38;5;21;01mtqdm\u001b[39;00m \u001b[38;5;28;01mimport\u001b[39;00m tqdm\n\u001b[1;32m      3\u001b[0m \u001b[38;5;28;01mfor\u001b[39;00m INDEX \u001b[38;5;129;01min\u001b[39;00m tqdm(\u001b[38;5;28mrange\u001b[39m(\u001b[38;5;241m1000\u001b[39m)):\n\u001b[0;32m----> 4\u001b[0m     item \u001b[38;5;241m=\u001b[39m \u001b[43mdataset\u001b[49m\u001b[38;5;241;43m.\u001b[39;49m\u001b[38;5;21;43m__getitem__\u001b[39;49m\u001b[43m(\u001b[49m\u001b[43mINDEX\u001b[49m\u001b[43m)\u001b[49m\n\u001b[1;32m      5\u001b[0m     pore \u001b[38;5;241m=\u001b[39m item[\u001b[38;5;241m0\u001b[39m]\n\u001b[1;32m      6\u001b[0m     \u001b[38;5;66;03m# pore_tensor = torch.tensor(pore_id.astype(bool)).to(torch.bool)\u001b[39;00m\n\u001b[1;32m      7\u001b[0m     \u001b[38;5;66;03m# pore_tensor = torch.tensor(pore_id.astype(np.ubyte))\u001b[39;00m\n\u001b[1;32m      8\u001b[0m     \u001b[38;5;66;03m# print(torch.iinfo(pore_tensor.dtype).bits)\u001b[39;00m\n\u001b[0;32m   (...)\u001b[0m\n\u001b[1;32m     14\u001b[0m     \u001b[38;5;66;03m# print(pore.shape) # Input\u001b[39;00m\n\u001b[1;32m     15\u001b[0m     \u001b[38;5;66;03m# print(item[1]) # Target\u001b[39;00m\n",
      "File \u001b[0;32m~/GitHub/Thermal-Image-Porosity-Prediction/runs/v56/dataset.py:49\u001b[0m, in \u001b[0;36mDataset.__getitem__\u001b[0;34m(self, index)\u001b[0m\n\u001b[1;32m     46\u001b[0m pore_id_slice[pore_id_slice \u001b[38;5;241m!=\u001b[39m pore_id] \u001b[38;5;241m=\u001b[39m \u001b[38;5;241m0\u001b[39m\n\u001b[1;32m     48\u001b[0m \u001b[38;5;66;03m# pore_tensor = torch.tensor(pore_id_slice.astype(np.uint8))\u001b[39;00m\n\u001b[0;32m---> 49\u001b[0m pore_tensor \u001b[38;5;241m=\u001b[39m \u001b[43mtorch\u001b[49m\u001b[38;5;241;43m.\u001b[39;49m\u001b[43mtensor\u001b[49m\u001b[43m(\u001b[49m\u001b[43mpore_id_slice\u001b[49m\u001b[43m)\u001b[49m\u001b[38;5;241m.\u001b[39mfloat()\n\u001b[1;32m     51\u001b[0m bounds \u001b[38;5;241m=\u001b[39m \u001b[38;5;28mself\u001b[39m\u001b[38;5;241m.\u001b[39mconfig[\u001b[38;5;124m\"\u001b[39m\u001b[38;5;124mpore_boundary_size\u001b[39m\u001b[38;5;124m\"\u001b[39m]\n\u001b[1;32m     53\u001b[0m \u001b[38;5;66;03m# Remaining area of tensor not covered in overlap \u001b[39;00m\n",
      "\u001b[0;31mTypeError\u001b[0m: can't convert np.ndarray of type numpy.uint32. The only supported types are: float64, float32, float16, complex64, complex128, int64, int32, int16, int8, uint8, and bool."
     ]
    }
   ],
   "source": [
    "# INDEX = 1234\n",
    "from tqdm import tqdm\n",
    "for INDEX in tqdm(range(1000)):\n",
    "    item = dataset.__getitem__(INDEX)\n",
    "    pore = item[0]\n",
    "    # pore_tensor = torch.tensor(pore_id.astype(bool)).to(torch.bool)\n",
    "    # pore_tensor = torch.tensor(pore_id.astype(np.ubyte))\n",
    "    # print(torch.iinfo(pore_tensor.dtype).bits)\n",
    "    # print(getsizeof(pore_tensor))\n",
    "\n",
    "\n",
    "\n",
    "    # print(getsizeof(pore))\n",
    "    # print(pore.shape) # Input\n",
    "    # print(item[1]) # Target\n",
    "    pore_id = INDEX + 1\n",
    "\n",
    "    pl = pv.Plotter()\n",
    "\n",
    "    # Manually sets bounds for grid\n",
    "    for z in [0, pore.shape[0] - 1]:\n",
    "        for y in [0, pore.shape[1] - 1]:\n",
    "            for x in [0, pore.shape[2] - 1]:\n",
    "                # print(z, y, x)\n",
    "                pore[z][y][x] = 10\n",
    "\n",
    "    zrng = np.arange(0, pore.shape[0] + 1, 1)\n",
    "    yrng = np.arange(0, pore.shape[1] + 1, 1)\n",
    "    xrng = np.arange(0, pore.shape[2] + 1, 1)\n",
    "\n",
    "    # print(z_range, y_range, x_range)\n",
    "\n",
    "    pl = pv.Plotter()\n",
    "    grid = pv.RectilinearGrid(xrng, yrng, zrng)\n",
    "    # grid.dimensions = (z_range,y_range,x_range)\n",
    "    grid.cell_data[\"Values\"] = pore.flatten()\n",
    "    threshold = grid.threshold(0.5)\n",
    "    # volume = pl.add_volume(grid, cmap=\"viridis\", shade=True)\n",
    "    mesh = pl.add_mesh(threshold, cmap=\"coolwarm\", show_edges=True)\n",
    "\n",
    "    pl.camera_position = \"iso\"\n",
    "    pl.show_grid(\n",
    "        n_zlabels = pore.shape[0] + 1,\n",
    "        n_ylabels = pore.shape[1] + 1,\n",
    "        n_xlabels = pore.shape[2] + 1,\n",
    "    )\n",
    "    pl.remove_scalar_bar()\n",
    "\n",
    "    pl.screenshot(f\"dataset_pore_test.png\")\n",
    "    pl.close()"
   ]
  },
  {
   "cell_type": "code",
   "execution_count": null,
   "metadata": {},
   "outputs": [],
   "source": []
  },
  {
   "cell_type": "code",
   "execution_count": null,
   "metadata": {},
   "outputs": [
    {
     "ename": "RuntimeError",
     "evalue": "The size of tensor a (200) must match the size of tensor b (7) at non-singleton dimension 2",
     "output_type": "error",
     "traceback": [
      "\u001b[0;31m---------------------------------------------------------------------------\u001b[0m",
      "\u001b[0;31mRuntimeError\u001b[0m                              Traceback (most recent call last)",
      "Cell \u001b[0;32mIn[8], line 8\u001b[0m\n\u001b[1;32m      5\u001b[0m tensor2 \u001b[38;5;241m=\u001b[39m torch\u001b[38;5;241m.\u001b[39mrandn(\u001b[38;5;241m6\u001b[39m, \u001b[38;5;241m9\u001b[39m, \u001b[38;5;241m7\u001b[39m)\n\u001b[1;32m      7\u001b[0m \u001b[38;5;66;03m# Add the tensors together (broadcasting will automatically expand tensor2 to match tensor1's shape)\u001b[39;00m\n\u001b[0;32m----> 8\u001b[0m result \u001b[38;5;241m=\u001b[39m \u001b[43mtensor1\u001b[49m\u001b[43m \u001b[49m\u001b[38;5;241;43m+\u001b[39;49m\u001b[43m \u001b[49m\u001b[43mtensor2\u001b[49m\n\u001b[1;32m     10\u001b[0m \u001b[38;5;66;03m# Take the shape of the larger tensor\u001b[39;00m\n\u001b[1;32m     11\u001b[0m larger_shape \u001b[38;5;241m=\u001b[39m tensor1\u001b[38;5;241m.\u001b[39mshape \u001b[38;5;28;01mif\u001b[39;00m tensor1\u001b[38;5;241m.\u001b[39mnumel() \u001b[38;5;241m>\u001b[39m tensor2\u001b[38;5;241m.\u001b[39mnumel() \u001b[38;5;28;01melse\u001b[39;00m tensor2\u001b[38;5;241m.\u001b[39mshape\n",
      "\u001b[0;31mRuntimeError\u001b[0m: The size of tensor a (200) must match the size of tensor b (7) at non-singleton dimension 2"
     ]
    }
   ],
   "source": [
    "import torch\n",
    "\n",
    "# Suppose you have two tensors of different shapes\n",
    "tensor1 = torch.randn(325, 200, 200)\n",
    "tensor2 = torch.randn(6, 9, 7)\n",
    "\n",
    "# Add the tensors together (broadcasting will automatically expand tensor2 to match tensor1's shape)\n",
    "result = tensor1 + tensor2\n",
    "\n",
    "# Take the shape of the larger tensor\n",
    "larger_shape = tensor1.shape if tensor1.numel() > tensor2.numel() else tensor2.shape\n",
    "\n",
    "print(\"Shape of tensor1:\", tensor1.shape)\n",
    "print(\"Shape of tensor2:\", tensor2.shape)\n",
    "print(\"Shape of the result:\", result.shape)\n",
    "print(\"Shape of the larger tensor:\", larger_shape)\n"
   ]
  },
  {
   "cell_type": "code",
   "execution_count": null,
   "metadata": {},
   "outputs": [
    {
     "name": "stdout",
     "output_type": "stream",
     "text": [
      "TRAINING ON ENTIRE DATASET\n",
      "torch.Size([4, 5, 9]) (3,)\n"
     ]
    },
    {
     "ename": "IndexError",
     "evalue": "tuple index out of range",
     "output_type": "error",
     "traceback": [
      "\u001b[0;31m---------------------------------------------------------------------------\u001b[0m",
      "\u001b[0;31mIndexError\u001b[0m                                Traceback (most recent call last)",
      "Cell \u001b[0;32mIn[8], line 13\u001b[0m\n\u001b[1;32m     11\u001b[0m image \u001b[38;5;241m=\u001b[39m item[\u001b[38;5;241m0\u001b[39m]\u001b[38;5;241m.\u001b[39msqueeze()\n\u001b[1;32m     12\u001b[0m label \u001b[38;5;241m=\u001b[39m item[\u001b[38;5;241m1\u001b[39m]\u001b[38;5;241m.\u001b[39msqueeze()\n\u001b[0;32m---> 13\u001b[0m cts \u001b[38;5;241m=\u001b[39m \u001b[43mitem\u001b[49m\u001b[43m[\u001b[49m\u001b[38;5;241;43m2\u001b[39;49m\u001b[43m]\u001b[49m\n\u001b[1;32m     15\u001b[0m segmented \u001b[38;5;241m=\u001b[39m cts[\u001b[38;5;241m1\u001b[39m]\u001b[38;5;241m.\u001b[39msqueeze()\n\u001b[1;32m     17\u001b[0m \u001b[38;5;28mprint\u001b[39m(image\u001b[38;5;241m.\u001b[39mshape, label\u001b[38;5;241m.\u001b[39mshape)\n",
      "\u001b[0;31mIndexError\u001b[0m: tuple index out of range"
     ]
    }
   ],
   "source": [
    "import matplotlib.pyplot as plt\n",
    "import pyvista as pv\n",
    "\n",
    "pv.start_xvfb()\n",
    "\n",
    "ITEM_INDEX = 60\n",
    "\n",
    "item = dataset.__getitem__(ITEM_INDEX)\n",
    "print(item[0].shape, item[1].shape)\n",
    "\n",
    "image = item[0].squeeze()\n",
    "label = item[1].squeeze()\n",
    "cts = item[2]\n",
    "\n",
    "segmented = cts[1].squeeze()\n",
    "\n",
    "print(image.shape, label.shape)\n",
    "\n",
    "label = np.transpose(label, (2, 1, 0))\n",
    "label = np.array(label)\n",
    "\n",
    "segmented = np.transpose(segmented, (2, 1, 0))\n",
    "segmented = np.array(segmented) / 5\n",
    "\n",
    "print(np.unique(segmented), np.unique(label))\n",
    "\n",
    "pl = pv.Plotter(notebook=True)\n",
    "grid = pv.ImageData()\n",
    "grid.dimensions = label.shape\n",
    "\n",
    "combined = segmented + label \n",
    "\n",
    "grid.point_data[\"Values\"] = combined.flatten(\"F\")\n",
    "_ = pl.add_volume(grid, cmap=\"viridis\", clim=[0,1], opacity=\"linear\")\n",
    "\n",
    "pl.show()"
   ]
  },
  {
   "cell_type": "code",
   "execution_count": null,
   "metadata": {},
   "outputs": [
    {
     "name": "stdout",
     "output_type": "stream",
     "text": [
      "[123  89 103  10 157   2 158 121  72 109  19  65  91  66  33  25 102  64\n",
      "  59 118 141  60   7  14  70  79 130  53 115 122  96  63  97 136  36 135\n",
      "  42  56  15  27 129  93 107  24   4  31  40  95  18 144  67  92 119 154\n",
      "  78  84  62  87 142   6  76 146  51 155 124 156 143  20  61 101 106 131\n",
      "  43  90 153  44 127 151  45  21  46 140  16 149 108 152 120  11 125  13\n",
      "  28  82  86  69  88  39 132 114 150  98  54  30 134 116   9   8  37  38\n",
      " 111 139  81  71  57  50  26  49   1  75  41 105]\n",
      "120\n",
      "120\n"
     ]
    },
    {
     "name": "stdout",
     "output_type": "stream",
     "text": [
      "0 torch.Size([1, 1, 150, 64, 64]) 72 torch.Size([1, 9, 64, 64]) 72\n",
      "1 torch.Size([1, 1, 150, 64, 64]) 72 torch.Size([1, 9, 64, 64]) 72\n",
      "2 torch.Size([1, 1, 150, 64, 64]) 72 torch.Size([1, 9, 64, 64]) 72\n",
      "3 torch.Size([1, 1, 150, 64, 64]) 72 torch.Size([1, 9, 64, 64]) 72\n",
      "4 torch.Size([1, 1, 150, 64, 64]) 72 torch.Size([1, 9, 64, 64]) 72\n",
      "5 torch.Size([1, 1, 150, 64, 64]) 72 torch.Size([1, 9, 64, 64]) 72\n",
      "6 torch.Size([1, 1, 150, 64, 64]) 72 torch.Size([1, 9, 64, 64]) 72\n",
      "7 torch.Size([1, 1, 150, 64, 64]) 72 torch.Size([1, 9, 64, 64]) 72\n",
      "8 torch.Size([1, 1, 150, 64, 64]) 72 torch.Size([1, 9, 64, 64]) 72\n",
      "9 torch.Size([1, 1, 150, 64, 64]) 72 torch.Size([1, 9, 64, 64]) 72\n",
      "10 torch.Size([1, 1, 150, 64, 64]) 72 torch.Size([1, 9, 64, 64]) 72\n",
      "11 torch.Size([1, 1, 150, 64, 64]) 72 torch.Size([1, 9, 64, 64]) 72\n",
      "12 torch.Size([1, 1, 150, 64, 64]) 72 torch.Size([1, 9, 64, 64]) 72\n",
      "13 torch.Size([1, 1, 150, 64, 64]) 72 torch.Size([1, 9, 64, 64]) 72\n",
      "14 torch.Size([1, 1, 150, 64, 64]) 72 torch.Size([1, 9, 64, 64]) 72\n",
      "15 torch.Size([1, 1, 150, 64, 64]) 72 torch.Size([1, 9, 64, 64]) 72\n",
      "16 torch.Size([1, 1, 150, 64, 64]) 72 torch.Size([1, 9, 64, 64]) 72\n",
      "17 torch.Size([1, 1, 150, 64, 64]) 72 torch.Size([1, 9, 64, 64]) 72\n",
      "18 torch.Size([1, 1, 150, 64, 64]) 72 torch.Size([1, 9, 64, 64]) 72\n",
      "19 torch.Size([1, 1, 150, 64, 64]) 72 torch.Size([1, 9, 64, 64]) 72\n",
      "20 torch.Size([1, 1, 150, 64, 64]) 72 torch.Size([1, 9, 64, 64]) 72\n",
      "21 torch.Size([1, 1, 150, 64, 64]) 72 torch.Size([1, 9, 64, 64]) 72\n",
      "22 torch.Size([1, 1, 150, 64, 64]) 72 torch.Size([1, 9, 64, 64]) 72\n",
      "23 torch.Size([1, 1, 150, 64, 64]) 72 torch.Size([1, 9, 64, 64]) 72\n",
      "24 torch.Size([1, 1, 150, 64, 64]) 72 torch.Size([1, 9, 64, 64]) 72\n",
      "25 torch.Size([1, 1, 150, 64, 64]) 72 torch.Size([1, 9, 64, 64]) 72\n",
      "26 torch.Size([1, 1, 150, 64, 64]) 72 torch.Size([1, 9, 64, 64]) 72\n",
      "27 torch.Size([1, 1, 150, 64, 64]) 72 torch.Size([1, 9, 64, 64]) 72\n",
      "28 torch.Size([1, 1, 150, 64, 64]) 72 torch.Size([1, 9, 64, 64]) 72\n",
      "29 torch.Size([1, 1, 150, 64, 64]) 72 torch.Size([1, 9, 64, 64]) 72\n",
      "30 torch.Size([1, 1, 150, 64, 64]) 72 torch.Size([1, 9, 64, 64]) 72\n",
      "31 torch.Size([1, 1, 150, 64, 64]) 72 torch.Size([1, 9, 64, 64]) 72\n",
      "32 torch.Size([1, 1, 150, 64, 64]) 72 torch.Size([1, 9, 64, 64]) 72\n",
      "33 torch.Size([1, 1, 150, 64, 64]) 72 torch.Size([1, 9, 64, 64]) 72\n",
      "34 torch.Size([1, 1, 150, 64, 64]) 72 torch.Size([1, 9, 64, 64]) 72\n",
      "35 torch.Size([1, 1, 150, 64, 64]) 72 torch.Size([1, 9, 64, 64]) 72\n",
      "36 torch.Size([1, 1, 150, 64, 64]) 72 torch.Size([1, 9, 64, 64]) 72\n",
      "37 torch.Size([1, 1, 150, 64, 64]) 72 torch.Size([1, 9, 64, 64]) 72\n",
      "38 torch.Size([1, 1, 150, 64, 64]) 72 torch.Size([1, 9, 64, 64]) 72\n",
      "39 torch.Size([1, 1, 150, 64, 64]) 72 torch.Size([1, 9, 64, 64]) 72\n",
      "40 torch.Size([1, 1, 150, 64, 64]) 72 torch.Size([1, 9, 64, 64]) 72\n",
      "41 torch.Size([1, 1, 150, 64, 64]) 72 torch.Size([1, 9, 64, 64]) 72\n",
      "42 torch.Size([1, 1, 150, 64, 64]) 72 torch.Size([1, 9, 64, 64]) 72\n",
      "43 torch.Size([1, 1, 150, 64, 64]) 72 torch.Size([1, 9, 64, 64]) 72\n",
      "44 torch.Size([1, 1, 150, 64, 64]) 72 torch.Size([1, 9, 64, 64]) 72\n",
      "45 torch.Size([1, 1, 150, 64, 64]) 72 torch.Size([1, 9, 64, 64]) 72\n",
      "46 torch.Size([1, 1, 150, 64, 64]) 72 torch.Size([1, 9, 64, 64]) 72\n",
      "47 torch.Size([1, 1, 150, 64, 64]) 72 torch.Size([1, 9, 64, 64]) 72\n",
      "48 torch.Size([1, 1, 150, 64, 64]) 72 torch.Size([1, 9, 64, 64]) 72\n",
      "49 torch.Size([1, 1, 150, 64, 64]) 72 torch.Size([1, 9, 64, 64]) 72\n",
      "50 torch.Size([1, 1, 150, 64, 64]) 72 torch.Size([1, 9, 64, 64]) 72\n",
      "51 torch.Size([1, 1, 150, 64, 64]) 72 torch.Size([1, 9, 64, 64]) 72\n",
      "52 torch.Size([1, 1, 150, 64, 64]) 72 torch.Size([1, 9, 64, 64]) 72\n",
      "53 torch.Size([1, 1, 150, 64, 64]) 72 torch.Size([1, 9, 64, 64]) 72\n",
      "54 torch.Size([1, 1, 150, 64, 64]) 72 torch.Size([1, 9, 64, 64]) 72\n",
      "55 torch.Size([1, 1, 150, 64, 64]) 72 torch.Size([1, 9, 64, 64]) 72\n",
      "56 torch.Size([1, 1, 150, 64, 64]) 72 torch.Size([1, 9, 64, 64]) 72\n",
      "57 torch.Size([1, 1, 150, 64, 64]) 72 torch.Size([1, 9, 64, 64]) 72\n",
      "58 torch.Size([1, 1, 150, 64, 64]) 72 torch.Size([1, 9, 64, 64]) 72\n",
      "59 torch.Size([1, 1, 150, 64, 64]) 72 torch.Size([1, 9, 64, 64]) 72\n",
      "60 torch.Size([1, 1, 150, 64, 64]) 72 torch.Size([1, 9, 64, 64]) 72\n",
      "61 torch.Size([1, 1, 150, 64, 64]) 72 torch.Size([1, 9, 64, 64]) 72\n",
      "62 torch.Size([1, 1, 150, 64, 64]) 72 torch.Size([1, 9, 64, 64]) 72\n",
      "63 torch.Size([1, 1, 150, 64, 64]) 72 torch.Size([1, 9, 64, 64]) 72\n",
      "64 torch.Size([1, 1, 150, 64, 64]) 72 torch.Size([1, 9, 64, 64]) 72\n",
      "65 torch.Size([1, 1, 150, 64, 64]) 72 torch.Size([1, 9, 64, 64]) 72\n",
      "66 torch.Size([1, 1, 150, 64, 64]) 72 torch.Size([1, 9, 64, 64]) 72\n",
      "67 torch.Size([1, 1, 150, 64, 64]) 72 torch.Size([1, 9, 64, 64]) 72\n",
      "68 torch.Size([1, 1, 150, 64, 64]) 72 torch.Size([1, 9, 64, 64]) 72\n",
      "69 torch.Size([1, 1, 150, 64, 64]) 72 torch.Size([1, 9, 64, 64]) 72\n",
      "70 torch.Size([1, 1, 150, 64, 64]) 72 torch.Size([1, 9, 64, 64]) 72\n",
      "71 torch.Size([1, 1, 150, 64, 64]) 72 torch.Size([1, 9, 64, 64]) 72\n",
      "72 torch.Size([1, 1, 150, 64, 64]) 72 torch.Size([1, 9, 64, 64]) 72\n",
      "73 torch.Size([1, 1, 150, 64, 64]) 72 torch.Size([1, 9, 64, 64]) 72\n",
      "74 torch.Size([1, 1, 150, 64, 64]) 72 torch.Size([1, 9, 64, 64]) 72\n",
      "75 torch.Size([1, 1, 150, 64, 64]) 72 torch.Size([1, 9, 64, 64]) 72\n",
      "76 torch.Size([1, 1, 150, 64, 64]) 72 torch.Size([1, 9, 64, 64]) 72\n",
      "77 torch.Size([1, 1, 150, 64, 64]) 72 torch.Size([1, 9, 64, 64]) 72\n",
      "78 torch.Size([1, 1, 150, 64, 64]) 72 torch.Size([1, 9, 64, 64]) 72\n",
      "79 torch.Size([1, 1, 150, 64, 64]) 72 torch.Size([1, 9, 64, 64]) 72\n",
      "80 torch.Size([1, 1, 150, 64, 64]) 72 torch.Size([1, 9, 64, 64]) 72\n",
      "81 torch.Size([1, 1, 150, 64, 64]) 72 torch.Size([1, 9, 64, 64]) 72\n",
      "82 torch.Size([1, 1, 150, 64, 64]) 72 torch.Size([1, 9, 64, 64]) 72\n",
      "83 torch.Size([1, 1, 150, 64, 64]) 72 torch.Size([1, 9, 64, 64]) 72\n",
      "84 torch.Size([1, 1, 150, 64, 64]) 72 torch.Size([1, 9, 64, 64]) 72\n",
      "85 torch.Size([1, 1, 150, 64, 64]) 72 torch.Size([1, 9, 64, 64]) 72\n",
      "86 torch.Size([1, 1, 150, 64, 64]) 72 torch.Size([1, 9, 64, 64]) 72\n",
      "87 torch.Size([1, 1, 150, 64, 64]) 72 torch.Size([1, 9, 64, 64]) 72\n",
      "88 torch.Size([1, 1, 150, 64, 64]) 72 torch.Size([1, 9, 64, 64]) 72\n",
      "89 torch.Size([1, 1, 150, 64, 64]) 72 torch.Size([1, 9, 64, 64]) 72\n",
      "90 torch.Size([1, 1, 150, 64, 64]) 72 torch.Size([1, 9, 64, 64]) 72\n",
      "91 torch.Size([1, 1, 150, 64, 64]) 72 torch.Size([1, 9, 64, 64]) 72\n",
      "92 torch.Size([1, 1, 150, 64, 64]) 72 torch.Size([1, 9, 64, 64]) 72\n",
      "93 torch.Size([1, 1, 150, 64, 64]) 72 torch.Size([1, 9, 64, 64]) 72\n",
      "94 torch.Size([1, 1, 150, 64, 64]) 72 torch.Size([1, 9, 64, 64]) 72\n",
      "95 torch.Size([1, 1, 150, 64, 64]) 72 torch.Size([1, 9, 64, 64]) 72\n",
      "96 torch.Size([1, 1, 150, 64, 64]) 72 torch.Size([1, 9, 64, 64]) 72\n",
      "97 torch.Size([1, 1, 150, 64, 64]) 72 torch.Size([1, 9, 64, 64]) 72\n",
      "98 torch.Size([1, 1, 150, 64, 64]) 72 torch.Size([1, 9, 64, 64]) 72\n",
      "99 torch.Size([1, 1, 150, 64, 64]) 72 torch.Size([1, 9, 64, 64]) 72\n",
      "100 torch.Size([1, 1, 150, 64, 64]) 72 torch.Size([1, 9, 64, 64]) 72\n",
      "101 torch.Size([1, 1, 150, 64, 64]) 72 torch.Size([1, 9, 64, 64]) 72\n",
      "102 torch.Size([1, 1, 150, 64, 64]) 72 torch.Size([1, 9, 64, 64]) 72\n",
      "103 torch.Size([1, 1, 150, 64, 64]) 72 torch.Size([1, 9, 64, 64]) 72\n",
      "104 torch.Size([1, 1, 150, 64, 64]) 72 torch.Size([1, 9, 64, 64]) 72\n",
      "105 torch.Size([1, 1, 150, 64, 64]) 72 torch.Size([1, 9, 64, 64]) 72\n",
      "106 torch.Size([1, 1, 150, 64, 64]) 72 torch.Size([1, 9, 64, 64]) 72\n",
      "107 torch.Size([1, 1, 150, 64, 64]) 72 torch.Size([1, 9, 64, 64]) 72\n",
      "108 torch.Size([1, 1, 150, 64, 64]) 72 torch.Size([1, 9, 64, 64]) 72\n",
      "109 torch.Size([1, 1, 150, 64, 64]) 72 torch.Size([1, 9, 64, 64]) 72\n",
      "110 torch.Size([1, 1, 150, 64, 64]) 72 torch.Size([1, 9, 64, 64]) 72\n",
      "111 torch.Size([1, 1, 150, 64, 64]) 72 torch.Size([1, 9, 64, 64]) 72\n",
      "112 torch.Size([1, 1, 150, 64, 64]) 72 torch.Size([1, 9, 64, 64]) 72\n",
      "113 torch.Size([1, 1, 150, 64, 64]) 72 torch.Size([1, 9, 64, 64]) 72\n",
      "114 torch.Size([1, 1, 150, 64, 64]) 72 torch.Size([1, 9, 64, 64]) 72\n",
      "115 torch.Size([1, 1, 150, 64, 64]) 72 torch.Size([1, 9, 64, 64]) 72\n",
      "116 torch.Size([1, 1, 150, 64, 64]) 72 torch.Size([1, 9, 64, 64]) 72\n",
      "117 torch.Size([1, 1, 150, 64, 64]) 72 torch.Size([1, 9, 64, 64]) 72\n",
      "118 torch.Size([1, 1, 150, 64, 64]) 72 torch.Size([1, 9, 64, 64]) 72\n",
      "119 torch.Size([1, 1, 150, 64, 64]) 72 torch.Size([1, 9, 64, 64]) 72\n"
     ]
    }
   ],
   "source": [
    "print(train_indexes)\n",
    "train_dataset = Dataset(config, indexes = train_indexes)\n",
    "train_dataloader = DataLoader(\n",
    "    train_dataset,\n",
    "    batch_size = 1,\n",
    "    shuffle=False,\n",
    "    num_workers=16\n",
    ")\n",
    "print(len(train_dataset))\n",
    "print(len(train_dataloader))\n",
    "for batch_num, (video, target) in enumerate(train_dataloader):\n",
    "    print(batch_num, video.shape, getsizeof(video), target.shape,  getsizeof(target))"
   ]
  },
  {
   "cell_type": "code",
   "execution_count": null,
   "metadata": {},
   "outputs": [
    {
     "name": "stdout",
     "output_type": "stream",
     "text": [
      "layer 60\n"
     ]
    },
    {
     "data": {
      "image/png": "[encoded data removed]",
      "text/plain": [
       "<Figure size 640x480 with 1 Axes>"
      ]
     },
     "metadata": {},
     "output_type": "display_data"
    },
    {
     "name": "stdout",
     "output_type": "stream",
     "text": [
      "[0. 1.]\n"
     ]
    },
    {
     "data": {
      "image/png": "[encoded data removed]",
      "text/plain": [
       "<Figure size 640x480 with 1 Axes>"
      ]
     },
     "metadata": {},
     "output_type": "display_data"
    }
   ],
   "source": [
    "import matplotlib.pyplot as plt\n",
    "\n",
    "selected_batch = 21\n",
    "for batch_num, (video, target) in enumerate(train_dataloader):\n",
    "  if (batch_num == selected_batch):\n",
    "    print(f\"layer {train_indexes[batch_num]}\")\n",
    "    plt.imshow(video[0][0][0])\n",
    "    plt.show()\n",
    "    plt.imshow(target[0][0])\n",
    "    print(np.unique(target[0][0]))\n",
    "    plt.show()"
   ]
  },
  {
   "cell_type": "code",
   "execution_count": null,
   "metadata": {},
   "outputs": [],
   "source": []
  }
 ],
 "metadata": {
  "kernelspec": {
   "display_name": "venv",
   "language": "python",
   "name": "python3"
  },
  "language_info": {
   "codemirror_mode": {
    "name": "ipython",
    "version": 3
   },
   "file_extension": ".py",
   "mimetype": "text/x-python",
   "name": "python",
   "nbconvert_exporter": "python",
   "pygments_lexer": "ipython3",
   "version": "3.8.10"
  }
 },
 "nbformat": 4,
 "nbformat_minor": 2
}
